{
 "cells": [
  {
   "cell_type": "code",
   "execution_count": 3,
   "metadata": {},
   "outputs": [
    {
     "name": "stdout",
     "output_type": "stream",
     "text": [
      "0\n",
      "-1\n",
      "2\n",
      "-1\n",
      "-1\n",
      "12\n",
      "36"
     ]
    }
   ],
   "source": [
    "from sys import stdin, stdout\n",
    "\n",
    "class SOLVE:\n",
    "    def solve(self):\n",
    "        R = stdin.readline\n",
    "        f = open('input.txt');R = f.readline\n",
    "        W = stdout.write\n",
    "        \n",
    "        ans = []\n",
    "        \n",
    "        for i in range(int(R())):\n",
    "            n = int(R())\n",
    "            \n",
    "            two = 0\n",
    "            while not n%2:\n",
    "                two += 1\n",
    "                n  //= 2\n",
    "                \n",
    "            three = 0\n",
    "            while not n%3:\n",
    "                three += 1\n",
    "                n    //= 3\n",
    "                \n",
    "            if n != 1 or three < two:\n",
    "                ans.append('-1')\n",
    "                continue\n",
    "                \n",
    "            ans.append(str(max(two, three) + three - two))\n",
    "        \n",
    "        W('\\n'.join(ans))\n",
    "        \n",
    "def main():\n",
    "    s = SOLVE()\n",
    "    s.solve()\n",
    "main()"
   ]
  },
  {
   "cell_type": "code",
   "execution_count": null,
   "metadata": {},
   "outputs": [],
   "source": []
  }
 ],
 "metadata": {
  "kernelspec": {
   "display_name": "Python 3",
   "language": "python",
   "name": "python3"
  },
  "language_info": {
   "codemirror_mode": {
    "name": "ipython",
    "version": 3
   },
   "file_extension": ".py",
   "mimetype": "text/x-python",
   "name": "python",
   "nbconvert_exporter": "python",
   "pygments_lexer": "ipython3",
   "version": "3.7.6"
  }
 },
 "nbformat": 4,
 "nbformat_minor": 4
}
