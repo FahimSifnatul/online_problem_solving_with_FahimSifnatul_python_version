{
 "cells": [
  {
   "cell_type": "code",
   "execution_count": 15,
   "metadata": {
    "scrolled": false
   },
   "outputs": [
    {
     "name": "stdout",
     "output_type": "stream",
     "text": [
      "5\n",
      "991 143 445 903 399\n",
      "1023 927 391 397 143\n",
      "2236797\n"
     ]
    }
   ],
   "source": [
    "from sys import stdin, stdout\n",
    "\n",
    "class Solve:\n",
    "    def solve(self):\n",
    "        r = input#stdin.readline\n",
    "        w = stdout.write\n",
    "\n",
    "        n = int(input())\n",
    "        a = [int(x) for x in r().split()]\n",
    "        a.sort(reverse = True)\n",
    "        maxbit = len(bin(a[0])) - 2\n",
    "\n",
    "        for i in range(maxbit):\n",
    "            op_num = (1 << i)\n",
    "            ones = 0\n",
    "            for j in range(n):\n",
    "                b = a[j] & op_num\n",
    "                if b:\n",
    "                    ones += 1\n",
    "            #print(ones)        \n",
    "            reset_bit = ((2**maxbit-1) ^ op_num)\n",
    "            for j in range(n):\n",
    "                if ones:\n",
    "                    a[j] |= op_num\n",
    "                    ones -= 1\n",
    "                else:\n",
    "                    a[j] &= reset_bit\n",
    "\n",
    "        #print(*a)\n",
    "        ans = 0\n",
    "        for i in range(n):\n",
    "            ans += a[i]**2\n",
    "\n",
    "        print(ans)\n",
    "\n",
    "\n",
    "def main():\n",
    "    s = Solve()\n",
    "    s.solve()\n",
    "\n",
    "main()"
   ]
  },
  {
   "cell_type": "code",
   "execution_count": null,
   "metadata": {},
   "outputs": [],
   "source": []
  }
 ],
 "metadata": {
  "kernelspec": {
   "display_name": "Python 3",
   "language": "python",
   "name": "python3"
  },
  "language_info": {
   "codemirror_mode": {
    "name": "ipython",
    "version": 3
   },
   "file_extension": ".py",
   "mimetype": "text/x-python",
   "name": "python",
   "nbconvert_exporter": "python",
   "pygments_lexer": "ipython3",
   "version": "3.7.6"
  }
 },
 "nbformat": 4,
 "nbformat_minor": 4
}
