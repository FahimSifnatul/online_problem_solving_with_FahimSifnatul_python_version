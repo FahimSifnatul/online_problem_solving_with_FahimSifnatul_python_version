{
 "cells": [
  {
   "cell_type": "code",
   "execution_count": 21,
   "metadata": {},
   "outputs": [
    {
     "name": "stdout",
     "output_type": "stream",
     "text": [
      "1\n"
     ]
    }
   ],
   "source": [
    "from sys import stdin, stdout, setrecursionlimit\n",
    "import threading\n",
    "\n",
    "# tail-recursion optimization\n",
    "# In case of tail-recusion optimized code, have to use python compiler.\n",
    "# Otherwise, memory limit may exceed.\n",
    "# declare the class Tail_Recursion_Optimization\n",
    "class Tail_Recursion_Optimization:\n",
    "    def __init__(self, RECURSION_LIMIT, STACK_SIZE):\n",
    "        setrecursionlimit(RECURSION_LIMIT)\n",
    "        threading.stack_size(STACK_SIZE)\n",
    "        return None\n",
    "        \n",
    "class SOLVE:\n",
    "    def DP(self, n, dp, a, b, c):\n",
    "        if n < a or n >= len(dp):\n",
    "            return -500000\n",
    "        elif dp[n] != None:\n",
    "            return dp[n]\n",
    "        \n",
    "        if n == a:\n",
    "            dp[n] = 1\n",
    "            return dp[n]\n",
    "        elif n == b:\n",
    "            dp[n] = max(1, self.DP(n-a, dp, a, b, c) + self.DP(a,   dp, a, b, c))\n",
    "            return dp[n]\n",
    "        elif n == a+b:\n",
    "            dp[n] = self.DP(a,   dp, a, b, c) + max(1, self.DP(n-a, dp, a, b, c) + self.DP(a,   dp, a, b, c))\n",
    "        elif n == c:\n",
    "            dp[n] = max(1, self.DP(n-a,   dp, a, b, c) + self.DP(a,   dp, a, b, c),\\\n",
    "                           self.DP(n-b,   dp, a, b, c) + self.DP(b,   dp, a, b, c),\\\n",
    "                           self.DP(n-a-b, dp, a, b, c) + self.DP(a+b, dp, a, b, c))\n",
    "            return dp[n]\n",
    "        \n",
    "        dp[n] = max(self.DP(n-a, dp, a, b, c) + 1,\\\n",
    "                    self.DP(n-b, dp, a, b, c) + 1,\\\n",
    "                    self.DP(n-c, dp, a, b, c) + 1)\n",
    "        \n",
    "        return dp[n]\n",
    "    \n",
    "    def solve(self):\n",
    "        R = stdin.readline\n",
    "        f = open('input.txt');R = f.readline\n",
    "        W = stdout.write\n",
    "        \n",
    "        A = [int(x) for x in R().split()]\n",
    "        n = A[0]\n",
    "        a, b, c = sorted(A[1:])\n",
    "        \n",
    "        dp = [None for i in range(n+1)]\n",
    "        self.DP(n, dp, a, b, c)\n",
    "        \n",
    "        W('%d\\n' % dp[n])\n",
    "        \n",
    "        return 0\n",
    "        \n",
    "def main():\n",
    "    s = SOLVE()\n",
    "    s.solve()\n",
    "Tail_Recursion_Optimization(10**7, 2**26) # recursion-call size, stack-size in byte\n",
    "threading.Thread(target=main).start()"
   ]
  },
  {
   "cell_type": "code",
   "execution_count": null,
   "metadata": {},
   "outputs": [],
   "source": []
  }
 ],
 "metadata": {
  "kernelspec": {
   "display_name": "Python 3",
   "language": "python",
   "name": "python3"
  },
  "language_info": {
   "codemirror_mode": {
    "name": "ipython",
    "version": 3
   },
   "file_extension": ".py",
   "mimetype": "text/x-python",
   "name": "python",
   "nbconvert_exporter": "python",
   "pygments_lexer": "ipython3",
   "version": "3.7.6"
  }
 },
 "nbformat": 4,
 "nbformat_minor": 4
}
