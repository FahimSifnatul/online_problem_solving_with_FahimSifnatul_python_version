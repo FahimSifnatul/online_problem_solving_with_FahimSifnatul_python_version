{
 "cells": [
  {
   "cell_type": "code",
   "execution_count": 9,
   "metadata": {},
   "outputs": [
    {
     "name": "stdout",
     "output_type": "stream",
     "text": [
      "5"
     ]
    }
   ],
   "source": [
    "from sys import stdin, stdout, setrecursionlimit\n",
    "\n",
    "class SOLVE:\n",
    "    def solve(self):\n",
    "        R = stdin.readline\n",
    "        f = open('input.txt');R = f.readline\n",
    "        W = stdout.write\n",
    "        \n",
    "        \n",
    "        n, m, q = [int(x) for x in R().split()]\n",
    "        \n",
    "        row = {}\n",
    "        for i in range(n):\n",
    "            row[i] = i\n",
    "            \n",
    "        column = {}\n",
    "        for i in range(m):\n",
    "            column[i] = i\n",
    "        \n",
    "        a = []\n",
    "        for i in range(n):\n",
    "            a.append([int(x) for x in R().split()])\n",
    "        \n",
    "        ans = []\n",
    "        for i in range(q):\n",
    "            c, l, r = [x for x in R().split()]\n",
    "            \n",
    "            l = int(l) - 1\n",
    "            r = int(r) - 1\n",
    "            \n",
    "            if c == 'r':\n",
    "                row[l], row[r] = row[r], row[l]\n",
    "            elif c == 'c':\n",
    "                column[l], column[r] = column[r], column[l]\n",
    "            else:\n",
    "                ans.append(str(a[row[l]][column[r]]))\n",
    "        \n",
    "        W('\\n'.join(ans))\n",
    "        return 0\n",
    "        \n",
    "def main():\n",
    "    s = SOLVE()\n",
    "    s.solve()\n",
    "main()"
   ]
  },
  {
   "cell_type": "code",
   "execution_count": null,
   "metadata": {},
   "outputs": [],
   "source": []
  }
 ],
 "metadata": {
  "kernelspec": {
   "display_name": "Python 3",
   "language": "python",
   "name": "python3"
  },
  "language_info": {
   "codemirror_mode": {
    "name": "ipython",
    "version": 3
   },
   "file_extension": ".py",
   "mimetype": "text/x-python",
   "name": "python",
   "nbconvert_exporter": "python",
   "pygments_lexer": "ipython3",
   "version": "3.7.6"
  }
 },
 "nbformat": 4,
 "nbformat_minor": 4
}
