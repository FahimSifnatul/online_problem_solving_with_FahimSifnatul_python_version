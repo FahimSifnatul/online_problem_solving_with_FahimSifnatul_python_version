{
 "cells": [
  {
   "cell_type": "code",
   "execution_count": 4,
   "metadata": {},
   "outputs": [
    {
     "name": "stdout",
     "output_type": "stream",
     "text": [
      "3\n",
      "1 2\n",
      "3 2\n",
      "4 2"
     ]
    }
   ],
   "source": [
    "    from sys import stdin, stdout\n",
    "     \n",
    "    class SOLVE:\n",
    "        def solve(self):\n",
    "            R = stdin.readline\n",
    "            #f = open('input.txt');R = f.readline\n",
    "            W = stdout.write\n",
    "            \n",
    "            ans = []\n",
    "            \n",
    "            n, m  = [int(x) for x in R().split()]\n",
    "            \n",
    "            check = {}\n",
    "            for i in range(m):\n",
    "                x, y = [int(tmp) for tmp in R().split()]\n",
    "                check[x] = check[y] = True\n",
    "            \n",
    "            node = None\n",
    "            for i in range(1, n+1):\n",
    "                if i not in check:\n",
    "                    node = i\n",
    "                    break\n",
    "            \n",
    "            ans.append(str(n-1))\n",
    "            for i in range(1, n+1):\n",
    "                if i != node:\n",
    "                    ans.append(str(i) + ' ' + str(node))\n",
    "            \n",
    "            W('\\n'.join(ans))\n",
    "            \n",
    "    def main():\n",
    "        s = SOLVE()\n",
    "        s.solve()\n",
    "    main()"
   ]
  },
  {
   "cell_type": "code",
   "execution_count": null,
   "metadata": {},
   "outputs": [],
   "source": []
  }
 ],
 "metadata": {
  "kernelspec": {
   "display_name": "Python 3",
   "language": "python",
   "name": "python3"
  },
  "language_info": {
   "codemirror_mode": {
    "name": "ipython",
    "version": 3
   },
   "file_extension": ".py",
   "mimetype": "text/x-python",
   "name": "python",
   "nbconvert_exporter": "python",
   "pygments_lexer": "ipython3",
   "version": "3.7.6"
  }
 },
 "nbformat": 4,
 "nbformat_minor": 4
}
