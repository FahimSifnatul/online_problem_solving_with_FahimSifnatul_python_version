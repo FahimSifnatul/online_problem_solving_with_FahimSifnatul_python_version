{
 "cells": [
  {
   "cell_type": "code",
   "execution_count": 20,
   "metadata": {},
   "outputs": [
    {
     "name": "stdout",
     "output_type": "stream",
     "text": [
      "1\n"
     ]
    }
   ],
   "source": [
    "from sys import stdin, stdout\n",
    "\n",
    "class SOLVE:\n",
    "    def bfs(self, src, node, vis):        \n",
    "        vis[src] = 1\n",
    "        queue    = [src]\n",
    "        flg      = 1\n",
    "        while len(queue):\n",
    "            u = queue[0]\n",
    "            del queue[0]\n",
    "            \n",
    "            if len(node[u]) != 2:\n",
    "                flg = 0\n",
    "            \n",
    "            for v in node[u]:\n",
    "                if vis[v] == 0:\n",
    "                    vis[v]  = 1\n",
    "                    queue.append(v)\n",
    "        \n",
    "        return flg\n",
    "    \n",
    "    def solve(self):\n",
    "        R = stdin.readline\n",
    "        f = open('input.txt');R = f.readline\n",
    "        W = stdout.write\n",
    "        \n",
    "        n, m = [int(x) for x in R().split()]\n",
    "        node = [[] for i in range(n+1)]\n",
    "        for i in range(m):\n",
    "            u, v = [int(x) for x in R().split()]\n",
    "            node[u].append(v)\n",
    "            node[v].append(u)\n",
    "        \n",
    "        vis    = [0 for i in range(n+1)]\n",
    "        cycles = 0\n",
    "        for i in range(1, n+1):\n",
    "            if vis[i] == 0:\n",
    "                cycles += self.bfs(i, node, vis)    \n",
    "                \n",
    "        W('%d\\n' % cycles)\n",
    "        return 0\n",
    "        \n",
    "def main():\n",
    "    s = SOLVE()\n",
    "    s.solve()\n",
    "main()"
   ]
  },
  {
   "cell_type": "code",
   "execution_count": null,
   "metadata": {},
   "outputs": [],
   "source": []
  }
 ],
 "metadata": {
  "kernelspec": {
   "display_name": "Python 3",
   "language": "python",
   "name": "python3"
  },
  "language_info": {
   "codemirror_mode": {
    "name": "ipython",
    "version": 3
   },
   "file_extension": ".py",
   "mimetype": "text/x-python",
   "name": "python",
   "nbconvert_exporter": "python",
   "pygments_lexer": "ipython3",
   "version": "3.7.6"
  }
 },
 "nbformat": 4,
 "nbformat_minor": 4
}
