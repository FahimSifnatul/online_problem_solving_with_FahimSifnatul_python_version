{
 "cells": [
  {
   "cell_type": "code",
   "execution_count": 16,
   "metadata": {},
   "outputs": [
    {
     "name": "stdout",
     "output_type": "stream",
     "text": [
      "2\n"
     ]
    }
   ],
   "source": [
    "from sys import stdin, stdout, setrecursionlimit\n",
    "#import threading\n",
    "\n",
    "# tail-recursion optimization\n",
    "# In case of tail-recusion optimized code, have to use python compiler.\n",
    "# Otherwise, memory limit may exceed.\n",
    "# declare the class Tail_Recursion_Optimization\n",
    "class Tail_Recursion_Optimization:\n",
    "    def __init__(self, RECURSION_LIMIT, STACK_SIZE):\n",
    "        setrecursionlimit(RECURSION_LIMIT)\n",
    "        threading.stack_size(STACK_SIZE)\n",
    "        return None\n",
    "        \n",
    "class SOLVE:\n",
    "    def solve(self):\n",
    "        R = stdin.readline\n",
    "        f = open('input.txt');R = f.readline\n",
    "        W = stdout.write\n",
    "        \n",
    "        n = int(R())\n",
    "        a = [int(x) for x in R().split()]\n",
    "        b = [int(x) for x in R().split()]\n",
    "        \n",
    "        a_pos = {}\n",
    "        for i in range(n):\n",
    "            a_pos[a[i]] = i\n",
    "        \n",
    "        left_shift  = {}\n",
    "        right_shift = {}\n",
    "        \n",
    "        for i in range(n):\n",
    "            pos = a_pos[b[i]]\n",
    "            \n",
    "            if pos > i:\n",
    "                r_dis = pos - i\n",
    "                l_dis = n - (pos-i)      \n",
    "            elif pos < i:\n",
    "                r_dis = n - (i-pos)\n",
    "                l_dis = i - pos   \n",
    "            else:\n",
    "                r_dis = l_dis = 0\n",
    "                \n",
    "                \n",
    "            if r_dis not in right_shift:\n",
    "                right_shift[r_dis]  = 1\n",
    "            else:\n",
    "                right_shift[r_dis] += 1\n",
    "            \n",
    "            \n",
    "            if l_dis not in left_shift:\n",
    "                left_shift[l_dis]  = 1\n",
    "            else:\n",
    "                left_shift[l_dis] += 1 \n",
    "                \n",
    "        \n",
    "        W('%d\\n' % max(max(left_shift.values()), max(right_shift.values())))\n",
    "        return 0\n",
    "        \n",
    "def main():\n",
    "    s = SOLVE()\n",
    "    s.solve()\n",
    "#Tail_Recursion_Optimization(10**7, 100*1024**2) # recursion-call size, stack-size in byte (MB*1024**2)\n",
    "#threading.Thread(target=main).start()\n",
    "main()"
   ]
  },
  {
   "cell_type": "code",
   "execution_count": null,
   "metadata": {},
   "outputs": [],
   "source": []
  }
 ],
 "metadata": {
  "kernelspec": {
   "display_name": "Python 3",
   "language": "python",
   "name": "python3"
  },
  "language_info": {
   "codemirror_mode": {
    "name": "ipython",
    "version": 3
   },
   "file_extension": ".py",
   "mimetype": "text/x-python",
   "name": "python",
   "nbconvert_exporter": "python",
   "pygments_lexer": "ipython3",
   "version": "3.7.6"
  }
 },
 "nbformat": 4,
 "nbformat_minor": 4
}
