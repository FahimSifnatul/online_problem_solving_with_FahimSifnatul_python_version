{
 "cells": [
  {
   "cell_type": "code",
   "execution_count": 5,
   "metadata": {},
   "outputs": [
    {
     "name": "stdout",
     "output_type": "stream",
     "text": [
      "5\n",
      "3\n",
      "4\n",
      "0"
     ]
    }
   ],
   "source": [
    "from sys import stdin, stdout\n",
    "\n",
    "class SOLVE:\n",
    "    def solve(self):\n",
    "        R = stdin.readline\n",
    "        f = open('input.txt');R = f.readline\n",
    "        W = stdout.write\n",
    "        \n",
    "        ans = []\n",
    "        \n",
    "        for i in range(int(R())):\n",
    "            n = int(R())\n",
    "            a = [int(x) for x in R().split()]\n",
    "            a.sort()\n",
    "            \n",
    "            A = {}\n",
    "            B = {}\n",
    "            for j in range(n):\n",
    "                if a[j] not in A:\n",
    "                    A[a[j]] = 1\n",
    "                elif a[j] not in B:\n",
    "                    B[a[j]] = 1\n",
    "            \n",
    "            val = 0\n",
    "            for j in range(102):\n",
    "                if j not in A:\n",
    "                    val += j\n",
    "                    break\n",
    "                    \n",
    "            for j in range(102):\n",
    "                if j not in B:\n",
    "                    val += j\n",
    "                    break\n",
    "                    \n",
    "            ans.append(str(val))\n",
    "        \n",
    "        W('\\n'.join(ans))\n",
    "        \n",
    "def main():\n",
    "    s = SOLVE()\n",
    "    s.solve()\n",
    "main()"
   ]
  },
  {
   "cell_type": "code",
   "execution_count": null,
   "metadata": {},
   "outputs": [],
   "source": []
  }
 ],
 "metadata": {
  "kernelspec": {
   "display_name": "Python 3",
   "language": "python",
   "name": "python3"
  },
  "language_info": {
   "codemirror_mode": {
    "name": "ipython",
    "version": 3
   },
   "file_extension": ".py",
   "mimetype": "text/x-python",
   "name": "python",
   "nbconvert_exporter": "python",
   "pygments_lexer": "ipython3",
   "version": "3.7.6"
  }
 },
 "nbformat": 4,
 "nbformat_minor": 4
}
