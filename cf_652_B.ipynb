{
 "cells": [
  {
   "cell_type": "code",
   "execution_count": 12,
   "metadata": {},
   "outputs": [
    {
     "name": "stdout",
     "output_type": "stream",
     "text": [
      "5\n",
      "10\n",
      "0001111111\n",
      "4\n",
      "0101\n",
      "8\n",
      "11001101\n",
      "10\n",
      "1110000000\n",
      "1\n",
      "1\n",
      "0001111111\n",
      "001\n",
      "01\n",
      "0\n",
      "1"
     ]
    }
   ],
   "source": [
    "from sys import stdin, stdout\n",
    "\n",
    "class SOLVE:\n",
    "    def solve(self):\n",
    "        r = stdin.readline\n",
    "        w = stdout.write\n",
    "        \n",
    "        ans = []\n",
    "        for i in range(int(input())):\n",
    "            n   = int(input())\n",
    "            s   = r()\n",
    "            lstr_pos, rstr_pos = -1, n\n",
    "            lstr = rstr = ''\n",
    "            \n",
    "            for j in range(n):\n",
    "                if s[j] == '0':\n",
    "                    lstr += '0'\n",
    "                    lstr_pos = j\n",
    "                else:\n",
    "                    break\n",
    "            \n",
    "            for j in range(n-1, -1, -1):\n",
    "                if s[j] == '1':\n",
    "                    rstr += '1'\n",
    "                    rstr_pos = j\n",
    "                else:\n",
    "                    break\n",
    "            \n",
    "            if rstr_pos - lstr_pos == 1:\n",
    "                ans.append(s)\n",
    "            else:\n",
    "                ans.append(lstr + '0' + rstr)\n",
    "        \n",
    "        w('\\n'.join(ans))\n",
    "    \n",
    "def main():\n",
    "    s = SOLVE()\n",
    "    s.solve()\n",
    "main()"
   ]
  },
  {
   "cell_type": "code",
   "execution_count": null,
   "metadata": {},
   "outputs": [],
   "source": []
  }
 ],
 "metadata": {
  "kernelspec": {
   "display_name": "Python 3",
   "language": "python",
   "name": "python3"
  },
  "language_info": {
   "codemirror_mode": {
    "name": "ipython",
    "version": 3
   },
   "file_extension": ".py",
   "mimetype": "text/x-python",
   "name": "python",
   "nbconvert_exporter": "python",
   "pygments_lexer": "ipython3",
   "version": "3.7.6"
  }
 },
 "nbformat": 4,
 "nbformat_minor": 4
}
