{
 "cells": [
  {
   "cell_type": "code",
   "execution_count": 33,
   "metadata": {},
   "outputs": [
    {
     "name": "stdout",
     "output_type": "stream",
     "text": [
      "Yes\n",
      "DSDDD\n",
      "DDDSD\n",
      "SDDDD\n",
      "DDDSD\n",
      "DSDDD\n"
     ]
    }
   ],
   "source": [
    "from sys import stdin, stdout, setrecursionlimit\n",
    "import threading\n",
    "\n",
    "# tail-recursion optimization\n",
    "# In case of tail-recusion optimized code, have to use python compiler.\n",
    "# Otherwise, memory limit may exceed.\n",
    "# declare the class class Tail_Recursion_Optimization\n",
    "class Tail_Recursion_Optimization:\n",
    "    def __init__(self, recursion_limit, stack_size):\n",
    "        setrecursionlimit(recursion_limit)\n",
    "        threading.stack_size(stack_size)\n",
    "        return None\n",
    "        \n",
    "class SOLVE:\n",
    "    dirx = [1, 0, -1,  0]\n",
    "    diry = [0, 1,  0, -1]\n",
    "    r = c = None\n",
    "    \n",
    "    def dfs(self, u, node, vis):\n",
    "        x, y = u\n",
    "        vis[x][y] = True\n",
    "        for i in range(4):\n",
    "            tmpx = x + self.dirx[i]\n",
    "            tmpy = y + self.diry[i]\n",
    "            if 0<=tmpx<self.r and 0<=tmpy<self.c and not vis[tmpx][tmpy]:\n",
    "                if node[tmpx][tmpy] == 'S':\n",
    "                    return 1\n",
    "                elif node[tmpx][tmpy] != 'D':\n",
    "                    self.dfs((tmpx, tmpy), node, vis)\n",
    "        return 0\n",
    "    \n",
    "    def solve(self):\n",
    "        R = stdin.readline\n",
    "        f = open('input.txt');R = f.readline\n",
    "        W = stdout.write\n",
    "        \n",
    "        ans = ['Yes', '\\n']\n",
    "        \n",
    "        self.r, self.c = [int(x) for x in R().split()]\n",
    "        \n",
    "        node = []\n",
    "        for i in range(self.r):\n",
    "            node.append(R())\n",
    "            node[i] = node[i].replace('.', 'D')\n",
    "            ans += node[i]\n",
    "\n",
    "        wolf = []\n",
    "        for i in range(self.r):\n",
    "            for j in range(self.c):\n",
    "                if node[i][j] == 'W':\n",
    "                    wolf.append((i, j))\n",
    "        \n",
    "        vis = [[False for j in range(self.c)] for i in range(self.r)]\n",
    "        for i in range(len(wolf)):\n",
    "            if self.dfs(wolf[i], node, vis):\n",
    "                W('No\\n')\n",
    "                return 0\n",
    "        \n",
    "        W(''.join(ans))\n",
    "        return 0\n",
    "        \n",
    "def main():\n",
    "    s = SOLVE()\n",
    "    s.solve()\n",
    "Tail_Recursion_Optimization(10**7, 2**24)\n",
    "threading.Thread(target=main).start()"
   ]
  },
  {
   "cell_type": "code",
   "execution_count": null,
   "metadata": {},
   "outputs": [],
   "source": []
  }
 ],
 "metadata": {
  "kernelspec": {
   "display_name": "Python 3",
   "language": "python",
   "name": "python3"
  },
  "language_info": {
   "codemirror_mode": {
    "name": "ipython",
    "version": 3
   },
   "file_extension": ".py",
   "mimetype": "text/x-python",
   "name": "python",
   "nbconvert_exporter": "python",
   "pygments_lexer": "ipython3",
   "version": "3.7.6"
  }
 },
 "nbformat": 4,
 "nbformat_minor": 4
}
