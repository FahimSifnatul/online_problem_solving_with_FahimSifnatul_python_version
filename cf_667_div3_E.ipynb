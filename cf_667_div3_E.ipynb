{
 "cells": [
  {
   "cell_type": "code",
   "execution_count": null,
   "metadata": {},
   "outputs": [],
   "source": [
    "from sys import stdin, stdout\n",
    "\n",
    "class SOLVE:\n",
    "    def bsearch(self, left, right, j, x, k, pos, cmd):\n",
    "        if left > right:\n",
    "            return pos\n",
    "        \n",
    "        mid = (left + right) // 2\n",
    "        \n",
    "        if cmd == 'rpos':\n",
    "            if x[mid] <= x[j] + k:\n",
    "                pos = mid\n",
    "                return self.bsearch(mid+1, right, j, x, k, pos, cmd)\n",
    "            else:\n",
    "                return self.bsearch(left, mid-1, j, x, k, pos, cmd)\n",
    "        \n",
    "        else:\n",
    "            if x[mid] >= x[j]-k:\n",
    "                pos = mid \n",
    "                return self.bsearch(left, mid-1, j, x, k, pos, cmd)\n",
    "            else:\n",
    "                return self.bsearch(mid+1, right, j, x, k, pos, cmd)\n",
    "            \n",
    "    \n",
    "    def solve(self):\n",
    "        R = stdin.readline\n",
    "        W = stdout.write\n",
    "        \n",
    "        ans = []\n",
    "        for i in range(int(input())):\n",
    "            n, k = [int(temp) for temp in R().split()]\n",
    "            x    = [int(temp) for temp in R().split()]\n",
    "            y    = [int(temp) for temp in R().split()]   \n",
    "            \n",
    "            x.sort()\n",
    "\n",
    "            rpos = {}\n",
    "            \n",
    "            for j in range(n): \n",
    "                rpos[j] = self.bsearch(j, n-1, j, x, k, j, 'rpos')\n",
    "            \n",
    "            rmx = {}\n",
    "            rmx[n-1] = 1\n",
    "            for j in range(n-2, -1, -1):\n",
    "                rmx[j] = max(rmx[j+1], rpos[j]-j+1)\n",
    "            \n",
    "            mx = 1\n",
    "            for j in range(n-1):\n",
    "                mx = max(mx, rpos[j]-j+1+(rmx[rpos[j]+1] if rpos[j]+1 < n else 0))\n",
    "                        \n",
    "            ans += [str(mx)]\n",
    "            \n",
    "        W('\\n'.join(ans))\n",
    "        \n",
    "def main():\n",
    "    s = SOLVE()\n",
    "    s.solve()\n",
    "main()"
   ]
  },
  {
   "cell_type": "code",
   "execution_count": null,
   "metadata": {},
   "outputs": [],
   "source": []
  }
 ],
 "metadata": {
  "kernelspec": {
   "display_name": "Python 3",
   "language": "python",
   "name": "python3"
  },
  "language_info": {
   "codemirror_mode": {
    "name": "ipython",
    "version": 3
   },
   "file_extension": ".py",
   "mimetype": "text/x-python",
   "name": "python",
   "nbconvert_exporter": "python",
   "pygments_lexer": "ipython3",
   "version": "3.7.6"
  }
 },
 "nbformat": 4,
 "nbformat_minor": 4
}
