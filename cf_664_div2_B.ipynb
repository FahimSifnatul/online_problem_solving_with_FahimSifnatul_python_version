{
 "cells": [
  {
   "cell_type": "code",
   "execution_count": 13,
   "metadata": {},
   "outputs": [
    {
     "name": "stdout",
     "output_type": "stream",
     "text": [
      "3 4 2 2\n",
      "2 2\n",
      "1 2\n",
      "1 1\n",
      "1 3\n",
      "1 4\n",
      "2 4\n",
      "2 3\n",
      "2 1\n",
      "3 1\n",
      "3 2\n",
      "3 3\n",
      "3 4\n"
     ]
    }
   ],
   "source": [
    "from sys import stdin, stdout\n",
    "\n",
    "class SOLVE:\n",
    "    def solve(self):\n",
    "        R = input\n",
    "        W = stdout.write\n",
    "        \n",
    "        n, m, x, y = [int(x) for x in R().split()]\n",
    "        \n",
    "        ans = [str(x) + ' ' + str(y), '\\n', \\\n",
    "               '1'    + ' ' + str(y), '\\n']\n",
    "        \n",
    "        direction = 'forward'\n",
    "        for i in range(1, n+1):\n",
    "            if direction == 'forward':\n",
    "                for j in range(1, m+1):\n",
    "                    if (i, j) != (x, y) and (i, j) != (1, y):\n",
    "                        ans += [str(i) + ' ' + str(j), '\\n']\n",
    "                direction = 'backward'\n",
    "            else:\n",
    "                for j in range(m, 0, -1):\n",
    "                    if (i, j) != (x, y) and (i, j) != (1, y):\n",
    "                        ans += [str(i) + ' ' + str(j), '\\n']\n",
    "                direction = 'forward'\n",
    "                \n",
    "        W(''.join(ans))\n",
    "                \n",
    "        \n",
    "def main():\n",
    "    s = SOLVE()\n",
    "    s.solve()\n",
    "main()"
   ]
  },
  {
   "cell_type": "code",
   "execution_count": 10,
   "metadata": {},
   "outputs": [],
   "source": [
    "x, y = 2, 3\n",
    "if (x, y) == (1, 3):\n",
    "    print(1)"
   ]
  },
  {
   "cell_type": "code",
   "execution_count": null,
   "metadata": {},
   "outputs": [],
   "source": []
  }
 ],
 "metadata": {
  "kernelspec": {
   "display_name": "Python 3",
   "language": "python",
   "name": "python3"
  },
  "language_info": {
   "codemirror_mode": {
    "name": "ipython",
    "version": 3
   },
   "file_extension": ".py",
   "mimetype": "text/x-python",
   "name": "python",
   "nbconvert_exporter": "python",
   "pygments_lexer": "ipython3",
   "version": "3.7.6"
  }
 },
 "nbformat": 4,
 "nbformat_minor": 4
}
