{
 "cells": [
  {
   "cell_type": "code",
   "execution_count": 9,
   "metadata": {},
   "outputs": [
    {
     "name": "stdout",
     "output_type": "stream",
     "text": [
      "4\n"
     ]
    }
   ],
   "source": [
    "from sys import stdin, stdout, setrecursionlimit\n",
    "import threading\n",
    "\n",
    "# tail-recursion optimization\n",
    "# In case of tail-recusion optimized code, have to use python compiler.\n",
    "# Otherwise, memory limit may exceed.\n",
    "# declare the class Tail_Recursion_Optimization\n",
    "class Tail_Recursion_Optimization:\n",
    "    def __init__(self, RECURSION_LIMIT, STACK_SIZE):\n",
    "        setrecursionlimit(RECURSION_LIMIT)\n",
    "        threading.stack_size(STACK_SIZE)\n",
    "        return None\n",
    "        \n",
    "class SOLVE:\n",
    "    def solve(self):\n",
    "        R = stdin.readline\n",
    "        f = open('input.txt');R = f.readline\n",
    "        W = stdout.write\n",
    "        \n",
    "        s = R()\n",
    "        l = len(s) - 1\n",
    "        v_prefix = [0 for i in range(l)]\n",
    "        v_suffix = [0 for i in range(l)]\n",
    "        \n",
    "        for i in range(l):\n",
    "            if i == 0:\n",
    "                v_prefix[i] = int(s[i] == 'v')    \n",
    "            elif s[i] == 'v':\n",
    "                v_prefix[i] = v_prefix[i-1] + 1\n",
    "            elif s[i] == 'o':\n",
    "                v_prefix[i] = v_prefix[i-1] - int(s[i-1]=='v')\n",
    "                \n",
    "        for i in range(l-1, -1, -1):\n",
    "            if i == l-1:\n",
    "                v_suffix[i] = int(s[i] == 'v')\n",
    "            elif s[i] == 'v':\n",
    "                v_suffix[i] = v_suffix[i+1] + 1\n",
    "            elif s[i] == 'o':\n",
    "                v_suffix[i] = v_suffix[i+1] - int(s[i+1]=='v')\n",
    "                \n",
    "        total = 0\n",
    "        for i in range(l):\n",
    "            if s[i] == 'o':\n",
    "                total += v_prefix[i] * v_suffix[i]\n",
    "        \n",
    "        #print(v_prefix)\n",
    "        #print(v_suffix)\n",
    "        W('%d\\n' % total)\n",
    "        return 0\n",
    "        \n",
    "def main():\n",
    "    s = SOLVE()\n",
    "    s.solve()\n",
    "#Tail_Recursion_Optimization(10**7, 2**26) # recursion-call size, stack-size in byte\n",
    "threading.Thread(target=main).start()"
   ]
  },
  {
   "cell_type": "code",
   "execution_count": null,
   "metadata": {},
   "outputs": [],
   "source": []
  }
 ],
 "metadata": {
  "kernelspec": {
   "display_name": "Python 3",
   "language": "python",
   "name": "python3"
  },
  "language_info": {
   "codemirror_mode": {
    "name": "ipython",
    "version": 3
   },
   "file_extension": ".py",
   "mimetype": "text/x-python",
   "name": "python",
   "nbconvert_exporter": "python",
   "pygments_lexer": "ipython3",
   "version": "3.7.6"
  }
 },
 "nbformat": 4,
 "nbformat_minor": 4
}
