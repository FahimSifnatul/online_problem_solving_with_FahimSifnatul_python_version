{
 "cells": [
  {
   "cell_type": "code",
   "execution_count": 1,
   "metadata": {},
   "outputs": [
    {
     "name": "stdout",
     "output_type": "stream",
     "text": [
      "8\n",
      "1 2\n",
      "2 3\n",
      "3 4\n",
      "4 1\n",
      "-1\n",
      "12\n",
      "1 2\n",
      "2 3\n",
      "3 1"
     ]
    }
   ],
   "source": [
    "from sys import stdin, stdout, setrecursionlimit\n",
    "import threading\n",
    "\n",
    "# tail-recursion optimization\n",
    "# In case of tail-recusion optimized code, have to use python compiler.\n",
    "# Otherwise, memory limit may exceed.\n",
    "# declare the class class Tail_Recursion_Optimization\n",
    "class Tail_Recursion_Optimization:\n",
    "    def __init__(self, recursion_limit, stack_size):\n",
    "        setrecursionlimit(recursion_limit)\n",
    "        threading.stack_size(stack_size)\n",
    "        return None\n",
    "        \n",
    "class SOLVE:\n",
    "    def solve(self):\n",
    "        R = stdin.readline\n",
    "        f = open('input.txt');R = f.readline\n",
    "        W = stdout.write\n",
    "        \n",
    "        ans = []\n",
    "        \n",
    "        for i in range(int(R())):\n",
    "            n, m = [int(x) for x in R().split()]\n",
    "            a    = [int(x) for x in R().split()]\n",
    "            \n",
    "            if m < n or n == 2:\n",
    "                ans.append('-1')\n",
    "            else:\n",
    "                ans.append(str(2*sum(a)))\n",
    "                for i in range(1, n):\n",
    "                    ans.append(str(i) + ' ' + str(i+1))\n",
    "                ans.append(str(n) + ' ' + '1')\n",
    "        \n",
    "        W('\\n'.join(ans))\n",
    "        return 0\n",
    "        \n",
    "def main():\n",
    "    s = SOLVE()\n",
    "    s.solve()\n",
    "#Tail_Recursion_Optimization(10**7, 2**26)\n",
    "threading.Thread(target=main).start()"
   ]
  },
  {
   "cell_type": "code",
   "execution_count": null,
   "metadata": {},
   "outputs": [],
   "source": []
  }
 ],
 "metadata": {
  "kernelspec": {
   "display_name": "Python 3",
   "language": "python",
   "name": "python3"
  },
  "language_info": {
   "codemirror_mode": {
    "name": "ipython",
    "version": 3
   },
   "file_extension": ".py",
   "mimetype": "text/x-python",
   "name": "python",
   "nbconvert_exporter": "python",
   "pygments_lexer": "ipython3",
   "version": "3.7.6"
  }
 },
 "nbformat": 4,
 "nbformat_minor": 4
}
