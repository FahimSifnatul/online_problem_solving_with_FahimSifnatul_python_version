{
 "cells": [
  {
   "cell_type": "code",
   "execution_count": 26,
   "metadata": {},
   "outputs": [
    {
     "name": "stdout",
     "output_type": "stream",
     "text": [
      "4 4 1 4 4 2 2"
     ]
    }
   ],
   "source": [
    "from sys import stdin, stdout, setrecursionlimit\n",
    "import threading\n",
    "\n",
    "# tail-recursion optimization\n",
    "# In case of tail-recusion optimized code, have to use python compiler.\n",
    "# Otherwise, memory limit may exceed.\n",
    "# declare the class class Tail_Recursion_Optimization\n",
    "class Tail_Recursion_Optimization:\n",
    "    def __init__(self, RECURSION_LIMIT, STACK_SIZE):\n",
    "        setrecursionlimit(RECURSION_LIMIT)\n",
    "        threading.stack_size(STACK_SIZE)\n",
    "        return None\n",
    "        \n",
    "class SOLVE:\n",
    "    def dfs(self, u, ancestor, node, parent):\n",
    "        parent[u] = ancestor\n",
    "        total     = 1\n",
    "        for v in node[u]:\n",
    "            if parent[v] == None:\n",
    "                total += self.dfs(v, ancestor, node, parent)\n",
    "        return total\n",
    "    \n",
    "    def solve(self):\n",
    "        R = stdin.readline\n",
    "        f = open('input.txt');R = f.readline\n",
    "        W = stdout.write\n",
    "        \n",
    "        ans = []\n",
    "        \n",
    "        n, m = [int(x) for x in R().split()]\n",
    "        node = [[] for i in range(n+1)]\n",
    "        for i in range(m):\n",
    "            a = [int(x) for x in R().split()]\n",
    "            \n",
    "            if a[0] > 1:\n",
    "                for j in range(2, a[0]+1):\n",
    "                    node[a[1]].append(a[j])\n",
    "                    node[a[j]].append(a[1])\n",
    "                    \n",
    "        dsu    = {}\n",
    "        parent = [None for i in range(n+1)]\n",
    "        for i in range(1, n+1):\n",
    "            if parent[i] == None:\n",
    "                dsu[i] = self.dfs(i, i, node, parent)\n",
    "                \n",
    "        for i in range(1, n+1):\n",
    "            ans.append(str(dsu[parent[i]]))\n",
    "        \n",
    "        W(' '.join(ans))\n",
    "        return 0\n",
    "        \n",
    "def main():\n",
    "    s = SOLVE()\n",
    "    s.solve()\n",
    "Tail_Recursion_Optimization(10**7, 2**27) # recursion-call size, stack-size in byte\n",
    "threading.Thread(target=main).start()"
   ]
  },
  {
   "cell_type": "code",
   "execution_count": null,
   "metadata": {},
   "outputs": [],
   "source": []
  }
 ],
 "metadata": {
  "kernelspec": {
   "display_name": "Python 3",
   "language": "python",
   "name": "python3"
  },
  "language_info": {
   "codemirror_mode": {
    "name": "ipython",
    "version": 3
   },
   "file_extension": ".py",
   "mimetype": "text/x-python",
   "name": "python",
   "nbconvert_exporter": "python",
   "pygments_lexer": "ipython3",
   "version": "3.7.6"
  }
 },
 "nbformat": 4,
 "nbformat_minor": 4
}
