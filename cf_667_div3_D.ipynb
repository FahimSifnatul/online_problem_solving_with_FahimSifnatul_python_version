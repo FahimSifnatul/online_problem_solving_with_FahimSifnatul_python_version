{
 "cells": [
  {
   "cell_type": "code",
   "execution_count": null,
   "metadata": {},
   "outputs": [],
   "source": [
    "from sys import stdin, stdout\n",
    "\n",
    "class SOLVE:\n",
    "    def solve(self):\n",
    "        R = stdin.readline\n",
    "        W = stdout.write\n",
    "        \n",
    "        ans = []\n",
    "        for i in range(int(input())):\n",
    "            n, s  = [x for x in R().split()]\n",
    "            s     = int(s)\n",
    "            \n",
    "            if sum([int(x) for x in n]) <= s:\n",
    "                ans += ['0']\n",
    "                continue\n",
    "            \n",
    "            temps = 0\n",
    "            for j in range(len(n)):\n",
    "                temps += int(n[j])\n",
    "                \n",
    "                if temps >= s:\n",
    "                    ans += [str(int( str(int('0'+n[:j])+1) + (len(n) - j)*'0') - int(n))]\n",
    "                    break\n",
    "            \n",
    "        W('\\n'.join(ans))\n",
    "        \n",
    "def main():\n",
    "    s = SOLVE()\n",
    "    s.solve()\n",
    "main()"
   ]
  },
  {
   "cell_type": "code",
   "execution_count": null,
   "metadata": {},
   "outputs": [],
   "source": []
  }
 ],
 "metadata": {
  "kernelspec": {
   "display_name": "Python 3",
   "language": "python",
   "name": "python3"
  },
  "language_info": {
   "codemirror_mode": {
    "name": "ipython",
    "version": 3
   },
   "file_extension": ".py",
   "mimetype": "text/x-python",
   "name": "python",
   "nbconvert_exporter": "python",
   "pygments_lexer": "ipython3",
   "version": "3.7.6"
  }
 },
 "nbformat": 4,
 "nbformat_minor": 4
}
