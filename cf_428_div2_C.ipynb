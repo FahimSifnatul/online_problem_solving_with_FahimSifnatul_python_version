{
 "cells": [
  {
   "cell_type": "code",
   "execution_count": 7,
   "metadata": {},
   "outputs": [
    {
     "name": "stdout",
     "output_type": "stream",
     "text": [
      "2.0\n"
     ]
    }
   ],
   "source": [
    "from sys import stdin, stdout, setrecursionlimit\n",
    "setrecursionlimit(5*10**5)\n",
    "import threading\n",
    "threading.stack_size(2**24)\n",
    "\n",
    "class SOLVE:\n",
    "    def dfs(self, child, parent, node):\n",
    "        total = 0\n",
    "        for v in node[child]:\n",
    "            if v != parent:\n",
    "                total += self.dfs(v, child, node) + 1\n",
    "\n",
    "        return ((total / (len(node[child]) - (1 if parent else 0))) if total else 0)\n",
    "    \n",
    "    def solve(self):\n",
    "        R = stdin.readline\n",
    "        f = open('input.txt');R = f.readline\n",
    "        W = stdout.write\n",
    "        \n",
    "        n    = int(R())\n",
    "        node = [[] for i in range(n+1)]\n",
    "        for _ in range(n-1):\n",
    "            u, v = [int(x) for x in R().split()]\n",
    "            node[u].append(v)\n",
    "            node[v].append(u) \n",
    "        \n",
    "        print(self.dfs(1, 0, node))\n",
    "            \n",
    "        return 0\n",
    "        \n",
    "def main():\n",
    "    s = SOLVE()\n",
    "    s.solve()\n",
    "threading.Thread(target=main).start()"
   ]
  },
  {
   "cell_type": "code",
   "execution_count": null,
   "metadata": {},
   "outputs": [],
   "source": []
  }
 ],
 "metadata": {
  "kernelspec": {
   "display_name": "Python 3",
   "language": "python",
   "name": "python3"
  },
  "language_info": {
   "codemirror_mode": {
    "name": "ipython",
    "version": 3
   },
   "file_extension": ".py",
   "mimetype": "text/x-python",
   "name": "python",
   "nbconvert_exporter": "python",
   "pygments_lexer": "ipython3",
   "version": "3.7.6"
  }
 },
 "nbformat": 4,
 "nbformat_minor": 4
}
