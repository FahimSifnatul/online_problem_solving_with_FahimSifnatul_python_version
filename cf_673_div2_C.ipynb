{
 "cells": [
  {
   "cell_type": "code",
   "execution_count": 19,
   "metadata": {},
   "outputs": [
    {
     "name": "stdout",
     "output_type": "stream",
     "text": [
      "-1 -1 3 2 1\n",
      "-1 4 4 4 2\n",
      "-1 -1 1 1 1 1"
     ]
    }
   ],
   "source": [
    "from sys import stdin, stdout, setrecursionlimit\n",
    "import threading\n",
    "\n",
    "# tail-recursion optimization\n",
    "# In case of tail-recusion optimized code, have to use python compiler.\n",
    "# Otherwise, memory limit may exceed.\n",
    "# declare the class Tail_Recursion_Optimization\n",
    "class Tail_Recursion_Optimization:\n",
    "    def __init__(self, RECURSION_LIMIT, STACK_SIZE):\n",
    "        setrecursionlimit(RECURSION_LIMIT)\n",
    "        threading.stack_size(STACK_SIZE)\n",
    "        return None\n",
    "    \n",
    "class SOLVE:\n",
    "    def solve(self):\n",
    "        R = stdin.readline\n",
    "        f = open('input.txt');R = f.readline\n",
    "        W = stdout.write\n",
    "        \n",
    "        ans = []\n",
    "        \n",
    "        for i in range(int(R())):\n",
    "            n = int(R())\n",
    "            a = [0] + [int(x) for x in R().split()]\n",
    "            \n",
    "            tmp_max_gap = {}\n",
    "            for j in range(1, n+1):\n",
    "                if a[j] not in tmp_max_gap:\n",
    "                    tmp_max_gap[a[j]] = [j, j] \n",
    "                else:\n",
    "                    tmp_max_gap[a[j]][0] = max(tmp_max_gap[a[j]][0], j-tmp_max_gap[a[j]][1])\n",
    "                    tmp_max_gap[a[j]][1] = j\n",
    "            #print(tmp_max_gap)\n",
    "                    \n",
    "            max_gap = []\n",
    "            for j in tmp_max_gap:\n",
    "                max_gap.append((j, max(tmp_max_gap[j][0], n+1-tmp_max_gap[j][1])))\n",
    "            \n",
    "            max_gap.sort(key = lambda x : x[0])\n",
    "            #print(max_gap)\n",
    "            \n",
    "            color = ['-1' for j in range(n+1)]\n",
    "            pos   = n+1\n",
    "            for j in range(len(max_gap)):\n",
    "                if max_gap[j][1] < pos:\n",
    "                    color[max_gap[j][1]] = str(max_gap[j][0])\n",
    "                    pos = max_gap[j][1]\n",
    "            #print(color)\n",
    "                    \n",
    "            val = '-1'\n",
    "            for j in range(1, n+1):\n",
    "                if color[j] != val and color[j] != '-1':\n",
    "                    val = color[j]\n",
    "                color[j] = str(val)\n",
    "            \n",
    "            ans.append(' '.join(color[1:]))\n",
    "        \n",
    "        W('\\n'.join(ans))\n",
    "        return 0\n",
    "        \n",
    "def main():\n",
    "    s = SOLVE()\n",
    "    s.solve()\n",
    "#Tail_Recursion_Optimization(10**7, 100*1024**2) # recursion-call size, stack-size in byte (MB*1024**2)\n",
    "#threading.Thread(target=main).start()\n",
    "main()"
   ]
  },
  {
   "cell_type": "code",
   "execution_count": null,
   "metadata": {},
   "outputs": [],
   "source": []
  }
 ],
 "metadata": {
  "kernelspec": {
   "display_name": "Python 3",
   "language": "python",
   "name": "python3"
  },
  "language_info": {
   "codemirror_mode": {
    "name": "ipython",
    "version": 3
   },
   "file_extension": ".py",
   "mimetype": "text/x-python",
   "name": "python",
   "nbconvert_exporter": "python",
   "pygments_lexer": "ipython3",
   "version": "3.7.6"
  }
 },
 "nbformat": 4,
 "nbformat_minor": 4
}
