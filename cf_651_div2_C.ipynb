{
 "cells": [
  {
   "cell_type": "code",
   "execution_count": 28,
   "metadata": {},
   "outputs": [
    {
     "name": "stdout",
     "output_type": "stream",
     "text": [
      "7\n",
      "1\n",
      "2\n",
      "3\n",
      "4\n",
      "18\n",
      "6\n",
      "12\n",
      "FastestFinger\n",
      "Ashishgup\n",
      "Ashishgup\n",
      "FastestFinger\n",
      "Ashishgup\n",
      "FastestFinger\n",
      "Ashishgup\n"
     ]
    }
   ],
   "source": [
    "from sys import stdin, stdout\n",
    "\n",
    "class SOLVE:\n",
    "    def sieve(self, prime):\n",
    "        check = {}\n",
    "        \n",
    "        for i in range(3, 178, 2):\n",
    "            if i not in check:\n",
    "                for j in range(i*i, 31623, 2*i):\n",
    "                    check[j] = 1\n",
    "        \n",
    "        for i in range(3, 31623, 2):\n",
    "            if i not in check:\n",
    "                prime.append(i)\n",
    "                \n",
    "    \n",
    "    def solve(self):\n",
    "        r = input\n",
    "        w = stdout.write\n",
    "        \n",
    "        prime = []\n",
    "        self.sieve(prime)\n",
    "        \n",
    "        name = ['Ashishgup', 'FastestFinger']\n",
    "        ans  = []\n",
    "        \n",
    "        for i in range(int(input())):\n",
    "            n = int(input())\n",
    "            \n",
    "            even_prime_cnt = odd_prime_cnt  = 0\n",
    "            \n",
    "            while not n%2:\n",
    "                n //= 2\n",
    "                even_prime_cnt += 1\n",
    "            \n",
    "            for i in prime:\n",
    "                while not n%i:\n",
    "                    n //= i\n",
    "                    odd_prime_cnt += 1\n",
    "                    \n",
    "            if n > 1:\n",
    "                odd_prime_cnt += 1\n",
    "                    \n",
    "            if even_prime_cnt == odd_prime_cnt == 0:\n",
    "                ans += [name[1], '\\n']\n",
    "            elif even_prime_cnt == 0 and odd_prime_cnt > 0:\n",
    "                ans += [name[0], '\\n']\n",
    "            elif even_prime_cnt == 1 and odd_prime_cnt == 0:\n",
    "                ans += [name[0], '\\n']\n",
    "            elif even_prime_cnt > 1 and odd_prime_cnt == 0:\n",
    "                ans += [name[1], '\\n']\n",
    "            elif even_prime_cnt == 1 and odd_prime_cnt == 1:\n",
    "                ans += [name[1], '\\n']\n",
    "            else:\n",
    "                ans += [name[0], '\\n']\n",
    "                \n",
    "        w(''.join(ans))\n",
    "        \n",
    "def main():\n",
    "    s = SOLVE()\n",
    "    s.solve()\n",
    "    \n",
    "main()"
   ]
  },
  {
   "cell_type": "code",
   "execution_count": 17,
   "metadata": {},
   "outputs": [
    {
     "data": {
      "text/plain": [
       "dict"
      ]
     },
     "execution_count": 17,
     "metadata": {},
     "output_type": "execute_result"
    }
   ],
   "source": [
    "type({})"
   ]
  },
  {
   "cell_type": "code",
   "execution_count": null,
   "metadata": {},
   "outputs": [],
   "source": []
  }
 ],
 "metadata": {
  "kernelspec": {
   "display_name": "Python 3",
   "language": "python",
   "name": "python3"
  },
  "language_info": {
   "codemirror_mode": {
    "name": "ipython",
    "version": 3
   },
   "file_extension": ".py",
   "mimetype": "text/x-python",
   "name": "python",
   "nbconvert_exporter": "python",
   "pygments_lexer": "ipython3",
   "version": "3.7.6"
  }
 },
 "nbformat": 4,
 "nbformat_minor": 4
}
