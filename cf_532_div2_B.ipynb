{
 "cells": [
  {
   "cell_type": "code",
   "execution_count": 16,
   "metadata": {},
   "outputs": [
    {
     "name": "stdout",
     "output_type": "stream",
     "text": [
      "0"
     ]
    }
   ],
   "source": [
    "from sys import stdin, stdout, setrecursionlimit\n",
    "#import threading\n",
    "from collections import OrderedDict\n",
    "\n",
    "# tail-recursion optimization\n",
    "# In case of tail-recusion optimized code, have to use python compiler.\n",
    "# Otherwise, memory limit may exceed.\n",
    "# declare the class Tail_Recursion_Optimization\n",
    "class Tail_Recursion_Optimization:\n",
    "    def __init__(self, RECURSION_LIMIT, STACK_SIZE):\n",
    "        setrecursionlimit(RECURSION_LIMIT)\n",
    "        threading.stack_size(STACK_SIZE)\n",
    "        return None\n",
    "        \n",
    "class SOLVE:\n",
    "    def solve(self):\n",
    "        R = stdin.readline\n",
    "        f = open('input.txt');R = f.readline\n",
    "        W = stdout.write\n",
    "        \n",
    "        ans = []\n",
    "        \n",
    "        n, m = [int(x) for x in R().split()]\n",
    "        a    = [int(x) for x in R().split()]\n",
    "        \n",
    "        pos  = OrderedDict()\n",
    "        for i in range(n):\n",
    "            pos[i+1] = []\n",
    "        \n",
    "        for i in range(m):\n",
    "            pos[a[i]].append(i)\n",
    "        \n",
    "        min_len = 10**6\n",
    "        for i in range(n):\n",
    "            min_len = min(min_len, len(pos[i+1])) \n",
    "            \n",
    "        ans     = ['0' for i in range(m)]\n",
    "        for i in range(min_len):\n",
    "            max_pos = 0\n",
    "            for j in pos:\n",
    "                max_pos = max(max_pos, pos[j][i])\n",
    "            ans[max_pos] = '1'\n",
    "        \n",
    "        W(''.join(ans))\n",
    "        return 0\n",
    "        \n",
    "def main():\n",
    "    s = SOLVE()\n",
    "    s.solve()\n",
    "#Tail_Recursion_Optimization(10**7, 100*1024**2) # recursion-call size, stack-size in byte (MB*1024**2)\n",
    "#threading.Thread(target=main).start()\n",
    "main()"
   ]
  },
  {
   "cell_type": "code",
   "execution_count": null,
   "metadata": {},
   "outputs": [],
   "source": []
  }
 ],
 "metadata": {
  "kernelspec": {
   "display_name": "Python 3",
   "language": "python",
   "name": "python3"
  },
  "language_info": {
   "codemirror_mode": {
    "name": "ipython",
    "version": 3
   },
   "file_extension": ".py",
   "mimetype": "text/x-python",
   "name": "python",
   "nbconvert_exporter": "python",
   "pygments_lexer": "ipython3",
   "version": "3.7.6"
  }
 },
 "nbformat": 4,
 "nbformat_minor": 4
}
