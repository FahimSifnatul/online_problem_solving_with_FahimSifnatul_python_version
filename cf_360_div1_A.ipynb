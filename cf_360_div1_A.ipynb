{
 "cells": [
  {
   "cell_type": "code",
   "execution_count": 12,
   "metadata": {},
   "outputs": [
    {
     "name": "stdout",
     "output_type": "stream",
     "text": [
      "-1\n"
     ]
    }
   ],
   "source": [
    "from sys import stdin, stdout\n",
    "\n",
    "class SOLVE:\n",
    "    def bfs(self, src, node, color, A, B):  \n",
    "        color[src]  = 0\n",
    "        queue       = [src]\n",
    "        while len(queue):\n",
    "            u = queue[0]\n",
    "            del queue[0]\n",
    "            \n",
    "            (A if color[u] else B).append(str(u))\n",
    "            \n",
    "            for v in node[u]:\n",
    "                if color[v] == None:\n",
    "                    color[v] = (color[u] ^ 1)\n",
    "                    queue.append(v)\n",
    "                elif color[v] == color[u]:\n",
    "                    return 0\n",
    "                \n",
    "        return 1\n",
    "    \n",
    "    def solve(self):\n",
    "        R = stdin.readline\n",
    "        f = open('input.txt');R = f.readline\n",
    "        W = stdout.write\n",
    "        \n",
    "        n, m = [int(x) for x in R().split()]\n",
    "        node = [[] for i in range(n+1)]\n",
    "        for i in range(m):\n",
    "            u, v = [int(x) for x in R().split()]\n",
    "            node[u].append(v)\n",
    "            node[v].append(u)\n",
    "        \n",
    "        A     = []\n",
    "        B     = []\n",
    "        color = [None for i in range(n+1)]\n",
    "        for i in range(1, n+1):\n",
    "            if len(node[i]) and color[i] == None:\n",
    "                ret = self.bfs(i, node, color, A, B)\n",
    "                \n",
    "                if not ret:\n",
    "                    W('-1\\n')\n",
    "                    return 0\n",
    "                    \n",
    "        W('%d\\n' % len(A))\n",
    "        W(' '.join(A) + '\\n')\n",
    "        W('%d\\n' % len(B))\n",
    "        W(' '.join(B) + '\\n')\n",
    "        \n",
    "        return 0\n",
    "        \n",
    "def main():\n",
    "    s = SOLVE()\n",
    "    s.solve()\n",
    "main()"
   ]
  },
  {
   "cell_type": "code",
   "execution_count": null,
   "metadata": {},
   "outputs": [],
   "source": []
  }
 ],
 "metadata": {
  "kernelspec": {
   "display_name": "Python 3",
   "language": "python",
   "name": "python3"
  },
  "language_info": {
   "codemirror_mode": {
    "name": "ipython",
    "version": 3
   },
   "file_extension": ".py",
   "mimetype": "text/x-python",
   "name": "python",
   "nbconvert_exporter": "python",
   "pygments_lexer": "ipython3",
   "version": "3.7.6"
  }
 },
 "nbformat": 4,
 "nbformat_minor": 4
}
