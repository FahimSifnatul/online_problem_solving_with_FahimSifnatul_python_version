{
 "cells": [
  {
   "cell_type": "code",
   "execution_count": 49,
   "metadata": {},
   "outputs": [
    {
     "name": "stdout",
     "output_type": "stream",
     "text": [
      "11\n"
     ]
    }
   ],
   "source": [
    "from sys import stdin, stdout\n",
    "\n",
    "class SOLVE:\n",
    "    def solve(self):\n",
    "        R = stdin.readline\n",
    "        f = open('input.txt');R = f.readline\n",
    "        W = stdout.write\n",
    "        \n",
    "        xfreq, yfreq, xyfreq = {}, {}, {}\n",
    "        for i in range(int(R())):\n",
    "            p, q = [x for x in R().split()]\n",
    "            \n",
    "            s = ('' if p[0] == '-' else '+') + p + ('' if q[0] == '-' else '+') + q\n",
    "            \n",
    "            if xyfreq.get(s):\n",
    "                xyfreq[s] += 1\n",
    "            else:\n",
    "                xyfreq[s]  = 1\n",
    "            \n",
    "            if xfreq.get(p):\n",
    "                xfreq[p]  += 1\n",
    "            else:\n",
    "                xfreq[p]   = 1\n",
    "                \n",
    "            if yfreq.get(q):\n",
    "                yfreq[q]  += 1\n",
    "            else:\n",
    "                yfreq[q]   = 1\n",
    "                \n",
    "        pairs = 0\n",
    "        for s in xfreq:\n",
    "            pairs += xfreq[s]  * (xfreq[s] - 1)  // 2\n",
    "        \n",
    "        for s in yfreq:\n",
    "            pairs += yfreq[s]  * (yfreq[s] - 1)  // 2\n",
    "            \n",
    "        for s in xyfreq:\n",
    "            pairs -= xyfreq[s] * (xyfreq[s] - 1) // 2 \n",
    "        \n",
    "        W('%d\\n' % pairs)\n",
    "        return 0\n",
    "        \n",
    "def main():\n",
    "    s = SOLVE()\n",
    "    s.solve()\n",
    "main()"
   ]
  },
  {
   "cell_type": "code",
   "execution_count": null,
   "metadata": {},
   "outputs": [],
   "source": []
  }
 ],
 "metadata": {
  "kernelspec": {
   "display_name": "Python 3",
   "language": "python",
   "name": "python3"
  },
  "language_info": {
   "codemirror_mode": {
    "name": "ipython",
    "version": 3
   },
   "file_extension": ".py",
   "mimetype": "text/x-python",
   "name": "python",
   "nbconvert_exporter": "python",
   "pygments_lexer": "ipython3",
   "version": "3.7.6"
  }
 },
 "nbformat": 4,
 "nbformat_minor": 4
}
