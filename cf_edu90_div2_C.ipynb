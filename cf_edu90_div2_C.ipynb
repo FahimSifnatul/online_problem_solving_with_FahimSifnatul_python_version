{
 "cells": [
  {
   "cell_type": "code",
   "execution_count": null,
   "metadata": {},
   "outputs": [],
   "source": [
    "from sys import stdin, stdout\n",
    "\n",
    "class SOLVE:\n",
    "    def solve(self):\n",
    "        R = stdin.readline\n",
    "        W = stdout.write\n",
    "        \n",
    "        ans = []\n",
    "        for i in range(int(input())):\n",
    "            s = R()\n",
    "            \n",
    "            cur = res = check = 0\n",
    "            for j in range(len(s)-1):\n",
    "                check += (1 if s[j] == '+' else -1)\n",
    "                if cur + check < 0:\n",
    "                    cur += 1\n",
    "                    res += j + 1\n",
    "                \n",
    "                if j == len(s) - 2:\n",
    "                    res += j + 1\n",
    "                    \n",
    "            ans.append(str(res))\n",
    "            \n",
    "        W('\\n'.join(ans))       \n",
    "        \n",
    "def main():\n",
    "    s = SOLVE()\n",
    "    s.solve()\n",
    "main()"
   ]
  },
  {
   "cell_type": "code",
   "execution_count": null,
   "metadata": {},
   "outputs": [],
   "source": []
  }
 ],
 "metadata": {
  "kernelspec": {
   "display_name": "Python 3",
   "language": "python",
   "name": "python3"
  },
  "language_info": {
   "codemirror_mode": {
    "name": "ipython",
    "version": 3
   },
   "file_extension": ".py",
   "mimetype": "text/x-python",
   "name": "python",
   "nbconvert_exporter": "python",
   "pygments_lexer": "ipython3",
   "version": "3.7.6"
  }
 },
 "nbformat": 4,
 "nbformat_minor": 4
}
