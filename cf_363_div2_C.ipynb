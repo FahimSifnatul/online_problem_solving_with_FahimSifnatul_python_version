{
 "cells": [
  {
   "cell_type": "code",
   "execution_count": 9,
   "metadata": {
    "scrolled": false
   },
   "outputs": [
    {
     "name": "stdout",
     "output_type": "stream",
     "text": [
      "16\n"
     ]
    }
   ],
   "source": [
    "from sys import stdin, stdout, setrecursionlimit\n",
    "import threading\n",
    "\n",
    "# tail-recursion optimization\n",
    "# In case of tail-recusion optimized code, have to use python compiler.\n",
    "# Otherwise, memory limit may exceed.\n",
    "# declare the class Tail_Recursion_Optimization\n",
    "class Tail_Recursion_Optimization:\n",
    "    def __init__(self, RECURSION_LIMIT, STACK_SIZE):\n",
    "        setrecursionlimit(RECURSION_LIMIT)\n",
    "        threading.stack_size(STACK_SIZE)\n",
    "        return None\n",
    "        \n",
    "class SOLVE:\n",
    "    n = a = dp = None\n",
    "\n",
    "    def DP(self, pos, gym, contest):\n",
    "        if pos == self.n:\n",
    "            return 0\n",
    "        \n",
    "        if self.dp[pos][gym][contest] != None:\n",
    "            return self.dp[pos][gym][contest]\n",
    "        \n",
    "        \n",
    "        if self.a[pos] == 0:\n",
    "            self.dp[pos][gym][contest] = 1 + self.DP(pos+1, 0, 0)\n",
    "        \n",
    "        elif self.a[pos] == 1:\n",
    "            if contest == 1:\n",
    "                self.dp[pos][gym][contest] = 1 + self.DP(pos+1, 0, 0)\n",
    "            else:\n",
    "                self.dp[pos][gym][contest] = self.DP(pos+1, 0, 1)\n",
    "        \n",
    "        elif self.a[pos] == 2:\n",
    "            if gym == 1:\n",
    "                self.dp[pos][gym][contest] = 1 + self.DP(pos+1, 0, 0)\n",
    "            else:\n",
    "                self.dp[pos][gym][contest] = self.DP(pos+1, 1, 0)\n",
    "        \n",
    "        else:\n",
    "            if gym == contest == 0:\n",
    "                total1 = total2 = None\n",
    "                total1 = self.DP(pos+1, 1, 0)\n",
    "                total2 = self.DP(pos+1, 0, 1)\n",
    "                self.dp[pos][gym][contest] = min(total1, total2)\n",
    "            elif gym == 0:\n",
    "                self.dp[pos][gym][contest] = self.DP(pos+1, 1, 0)\n",
    "            else:\n",
    "                self.dp[pos][gym][contest] = self.DP(pos+1, 0, 1)\n",
    "            \n",
    "        return self.dp[pos][gym][contest]\n",
    "    \n",
    "    def solve(self):\n",
    "        R = stdin.readline\n",
    "        f = open('input.txt');R = f.readline\n",
    "        W = stdout.write\n",
    "        \n",
    "        self.n  = int(R())\n",
    "        self.a  = [int(x) for x in R().split()]\n",
    "        self.dp = [[[None, None], [None, None]] for i in range(self.n)]\n",
    "        \n",
    "        W('%d\\n' % self.DP(0, 0, 0))\n",
    "        return 0\n",
    "        \n",
    "def main():\n",
    "    s = SOLVE()\n",
    "    s.solve()\n",
    "Tail_Recursion_Optimization(10**7, 100*1024**2) # recursion-call size, stack-size in byte (MB*1024**2)\n",
    "threading.Thread(target=main).start()\n",
    "#main()"
   ]
  },
  {
   "cell_type": "code",
   "execution_count": null,
   "metadata": {},
   "outputs": [],
   "source": []
  }
 ],
 "metadata": {
  "kernelspec": {
   "display_name": "Python 3",
   "language": "python",
   "name": "python3"
  },
  "language_info": {
   "codemirror_mode": {
    "name": "ipython",
    "version": 3
   },
   "file_extension": ".py",
   "mimetype": "text/x-python",
   "name": "python",
   "nbconvert_exporter": "python",
   "pygments_lexer": "ipython3",
   "version": "3.7.6"
  }
 },
 "nbformat": 4,
 "nbformat_minor": 4
}
