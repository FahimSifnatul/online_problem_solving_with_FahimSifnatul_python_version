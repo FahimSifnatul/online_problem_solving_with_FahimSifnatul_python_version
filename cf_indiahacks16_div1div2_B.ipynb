{
 "cells": [
  {
   "cell_type": "code",
   "execution_count": 7,
   "metadata": {
    "scrolled": true
   },
   "outputs": [
    {
     "name": "stdout",
     "output_type": "stream",
     "text": [
      "0\n"
     ]
    }
   ],
   "source": [
    "from sys import stdin, stdout, setrecursionlimit\n",
    "import threading\n",
    "\n",
    "# tail-recursion optimization\n",
    "# In case of tail-recusion optimized code, have to use python compiler.\n",
    "# Otherwise, memory limit may exceed.\n",
    "# declare the class Tail_Recursion_Optimization\n",
    "class Tail_Recursion_Optimization:\n",
    "    def __init__(self, RECURSION_LIMIT, STACK_SIZE):\n",
    "        setrecursionlimit(RECURSION_LIMIT)\n",
    "        threading.stack_size(STACK_SIZE)\n",
    "        return None\n",
    "        \n",
    "class SOLVE:\n",
    "    def DP(self, s, n, a, b):\n",
    "        if len(s) == n:\n",
    "            return 1\n",
    "        \n",
    "        total = 0\n",
    "        for i in range(len(a)):\n",
    "            if s[0] == b[i]:\n",
    "                total += self.DP(a[i]+s[1:], n, a, b)\n",
    "            \n",
    "        return total\n",
    "    \n",
    "    def solve(self):\n",
    "        R = stdin.readline\n",
    "        f = open('input.txt');R = f.readline\n",
    "        W = stdout.write\n",
    "        \n",
    "        n, q = [int(x) for x in R().split()]\n",
    "        a, b = [None for i in range(q)], [None for i in range(q)]\n",
    "        \n",
    "        for i in range(q):\n",
    "            a[i], b[i] = [x for x in R().split()]\n",
    "        \n",
    "        W('%d\\n' % self.DP('a', n, a, b))\n",
    "        return 0\n",
    "        \n",
    "def main():\n",
    "    s = SOLVE()\n",
    "    s.solve()\n",
    "#Tail_Recursion_Optimization(10**7, 2**26) # recursion-call size, stack-size in byte\n",
    "threading.Thread(target=main).start()\n",
    "#main()"
   ]
  },
  {
   "cell_type": "code",
   "execution_count": null,
   "metadata": {},
   "outputs": [],
   "source": []
  }
 ],
 "metadata": {
  "kernelspec": {
   "display_name": "Python 3",
   "language": "python",
   "name": "python3"
  },
  "language_info": {
   "codemirror_mode": {
    "name": "ipython",
    "version": 3
   },
   "file_extension": ".py",
   "mimetype": "text/x-python",
   "name": "python",
   "nbconvert_exporter": "python",
   "pygments_lexer": "ipython3",
   "version": "3.7.6"
  }
 },
 "nbformat": 4,
 "nbformat_minor": 4
}
