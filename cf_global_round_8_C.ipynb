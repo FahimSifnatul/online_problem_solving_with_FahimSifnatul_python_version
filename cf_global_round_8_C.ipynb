{
 "cells": [
  {
   "cell_type": "code",
   "execution_count": 11,
   "metadata": {
    "scrolled": true
   },
   "outputs": [
    {
     "name": "stdout",
     "output_type": "stream",
     "text": [
      "1\n",
      "7\n",
      "1 1\n",
      "0 1\n",
      "1 0\n",
      "0 0\n",
      "2 1\n",
      "1 2\n",
      "2 2\n"
     ]
    }
   ],
   "source": [
    "from sys import stdout\n",
    "\n",
    "class Solve:\n",
    "    def solve(self):\n",
    "        n   = int(input())\n",
    "        ans = [str(3*n+4), '\\n']\n",
    "        \n",
    "        for i in range(1, n+1):\n",
    "            ans += [str(i), ' ', str(i), '\\n']\n",
    "            ans += [str(i-1), ' ', str(i),   '\\n']\n",
    "            ans += [str(i),   ' ', str(i-1), '\\n']\n",
    "            \n",
    "            if i == 1:\n",
    "                ans += [str(i-1), ' ', str(i-1), '\\n']\n",
    "            if i == n:\n",
    "                ans += [str(i+1), ' ', str(i),   '\\n']\n",
    "                ans += [str(i),   ' ', str(i+1), '\\n']\n",
    "                ans += [str(i+1), ' ', str(i+1), '\\n']\n",
    "        \n",
    "        stdout.write(''.join(ans))\n",
    "        \n",
    "def main():\n",
    "    s = Solve()\n",
    "    s.solve()\n",
    "    \n",
    "main()"
   ]
  },
  {
   "cell_type": "code",
   "execution_count": null,
   "metadata": {},
   "outputs": [],
   "source": []
  }
 ],
 "metadata": {
  "kernelspec": {
   "display_name": "Python 3",
   "language": "python",
   "name": "python3"
  },
  "language_info": {
   "codemirror_mode": {
    "name": "ipython",
    "version": 3
   },
   "file_extension": ".py",
   "mimetype": "text/x-python",
   "name": "python",
   "nbconvert_exporter": "python",
   "pygments_lexer": "ipython3",
   "version": "3.7.6"
  }
 },
 "nbformat": 4,
 "nbformat_minor": 4
}
