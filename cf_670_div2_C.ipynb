{
 "cells": [
  {
   "cell_type": "code",
   "execution_count": 47,
   "metadata": {},
   "outputs": [
    {
     "name": "stdout",
     "output_type": "stream",
     "text": [
      "2 2 7\n",
      "1 1 10\n",
      "3 8 9\n",
      "4 3 4\n",
      "5 5 6\n"
     ]
    }
   ],
   "source": [
    "from sys import stdin, stdout\n",
    "\n",
    "n = None\n",
    "\n",
    "class Val:\n",
    "    discovery_time = finishing_time = node = None\n",
    "    \n",
    "    def __lt__(self, other):\n",
    "        global n\n",
    "        a = (self.finishing_time  - self.discovery_time)  // 2\n",
    "        a = max(a, n-a-1)\n",
    "        \n",
    "        b = (other.finishing_time - other.discovery_time) // 2\n",
    "        b = max(b, n-b-1)\n",
    "        \n",
    "        return a < b\n",
    "\n",
    "class SOLVE:\n",
    "    current_time = 1\n",
    "    \n",
    "    def dfs(self, parent, time, node):\n",
    "        if time[parent].node != None:\n",
    "            return 0\n",
    "        \n",
    "        time[parent].node           = parent\n",
    "        time[parent].discovery_time = self.current_time\n",
    "        \n",
    "        for j in node[parent]:\n",
    "            if time[j].node == None:\n",
    "                self.current_time += 1\n",
    "                self.dfs(j, time, node)\n",
    "        \n",
    "        self.current_time           += 1\n",
    "        time[parent].finishing_time  = self.current_time\n",
    "    \n",
    "    def solve(self):\n",
    "        R = stdin.readline\n",
    "        f = open('input.txt');R = f.readline\n",
    "        W = stdout.write\n",
    "        \n",
    "        ans = []\n",
    "        \n",
    "        for i in range(int(R())):\n",
    "            global n\n",
    "            n = int(R())\n",
    "            \n",
    "            node = [[] for j in range(n+1)]\n",
    "            for j in range(n-1):\n",
    "                x, y = [int(tmp) for tmp in R().split()]\n",
    "                node[x].append(y)\n",
    "                node[y].append(x)\n",
    "            \n",
    "            \n",
    "            time = [Val() for j in range(n+1)]\n",
    "            self.dfs(1, time, node)\n",
    "            time[1:] = sorted(time[1:])\n",
    "            \n",
    "            for j in range(1, n+1):\n",
    "                print(time[j].node, time[j].discovery_time, time[j].finishing_time)\n",
    "        \n",
    "        W('\\n'.join(ans))\n",
    "        \n",
    "def main():\n",
    "    s = SOLVE()\n",
    "    s.solve()\n",
    "main()"
   ]
  },
  {
   "cell_type": "code",
   "execution_count": null,
   "metadata": {},
   "outputs": [],
   "source": []
  }
 ],
 "metadata": {
  "kernelspec": {
   "display_name": "Python 3",
   "language": "python",
   "name": "python3"
  },
  "language_info": {
   "codemirror_mode": {
    "name": "ipython",
    "version": 3
   },
   "file_extension": ".py",
   "mimetype": "text/x-python",
   "name": "python",
   "nbconvert_exporter": "python",
   "pygments_lexer": "ipython3",
   "version": "3.7.6"
  }
 },
 "nbformat": 4,
 "nbformat_minor": 4
}
