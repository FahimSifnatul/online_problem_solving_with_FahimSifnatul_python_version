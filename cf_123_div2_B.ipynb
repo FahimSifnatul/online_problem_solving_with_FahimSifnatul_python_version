{
 "cells": [
  {
   "cell_type": "code",
   "execution_count": 16,
   "metadata": {},
   "outputs": [
    {
     "name": "stdout",
     "output_type": "stream",
     "text": [
      "2\n",
      "1\n",
      "3\n",
      "2"
     ]
    }
   ],
   "source": [
    "from sys import stdin, stdout, setrecursionlimit\n",
    "from collections import deque\n",
    "\n",
    "# tail-recursion optimization\n",
    "# In case of tail-recusion optimized code, have to use python compiler.\n",
    "# Otherwise, memory limit may exceed.\n",
    "# declare the class Tail_Recursion_Optimization\n",
    "class Tail_Recursion_Optimization:\n",
    "    def __init__(self, RECURSION_LIMIT, STACK_SIZE):\n",
    "        setrecursionlimit(RECURSION_LIMIT)\n",
    "        threading.stack_size(STACK_SIZE)\n",
    "        return None\n",
    "        \n",
    "class SOLVE:\n",
    "    def solve(self):\n",
    "        R = stdin.readline\n",
    "        f = open('input.txt');R = f.readline\n",
    "        W = stdout.write\n",
    "        \n",
    "        ans = []\n",
    "        \n",
    "        n, m  = [int(x) for x in R().split()]\n",
    "        \n",
    "        a     = (m+1) // 2\n",
    "        b     = a + (-1 if m%2 else 1)\n",
    "        \n",
    "        boxes = deque()\n",
    "        while 1 <= a <= m and 1 <= b <= m:\n",
    "            boxes.append(str(a))\n",
    "            boxes.append(str(b))\n",
    "            \n",
    "            a += ( 1 if m%2 else -1)\n",
    "            b += (-1 if m%2 else  1)\n",
    "        if m%2:\n",
    "            boxes.append(str(m))\n",
    "            \n",
    "        for i in range(1, n+1):\n",
    "            current_box = boxes.popleft()\n",
    "            ans.append(current_box)\n",
    "            boxes.append(current_box)\n",
    "        \n",
    "        W('\\n'.join(ans))\n",
    "        return 0\n",
    "        \n",
    "def main():\n",
    "    s = SOLVE()\n",
    "    s.solve()\n",
    "#Tail_Recursion_Optimization(10**7, 100*1024**2) # recursion-call size, stack-size in byte (MB*1024**2)\n",
    "#threading.Thread(target=main).start()\n",
    "main()"
   ]
  },
  {
   "cell_type": "code",
   "execution_count": null,
   "metadata": {},
   "outputs": [],
   "source": []
  }
 ],
 "metadata": {
  "kernelspec": {
   "display_name": "Python 3",
   "language": "python",
   "name": "python3"
  },
  "language_info": {
   "codemirror_mode": {
    "name": "ipython",
    "version": 3
   },
   "file_extension": ".py",
   "mimetype": "text/x-python",
   "name": "python",
   "nbconvert_exporter": "python",
   "pygments_lexer": "ipython3",
   "version": "3.7.6"
  }
 },
 "nbformat": 4,
 "nbformat_minor": 4
}
