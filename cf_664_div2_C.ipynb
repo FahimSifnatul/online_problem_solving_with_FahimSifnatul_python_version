{
 "cells": [
  {
   "cell_type": "code",
   "execution_count": null,
   "metadata": {},
   "outputs": [],
   "source": [
    "from sys import stdin, stdout\n",
    "\n",
    "class SOLVE:\n",
    "    def cor(i, j, c, a, b, dp):\n",
    "        if i < 0 or j < 0:\n",
    "            return 1000\n",
    "        \n",
    "        if dp[i][j] != -1:\n",
    "            return dp[i][j]\n",
    "        \n",
    "        if i == 0:\n",
    "            min(c|(a[i]&b[j]), cor(i-1, , c, a, b, dp))\n",
    "    \n",
    "    def solve(self):\n",
    "        R = input#stdin.readline\n",
    "        W = stdout.write\n",
    "        \n",
    "        n, m = [int(x) for x in R().split()]\n",
    "        a = [int(x) for x in R().split()]\n",
    "        b = [int(x) for x in R().split()]\n",
    "        \n",
    "        dp = [[-1 for j in range(m)] for i in range(n)]\n",
    "        cor(n-1, m-1, 0, a, b, dp)\n",
    "        \n",
    "        W('%d' % dp[n-1][m-1])\n",
    "        \n",
    "def main():\n",
    "    s = SOLVE()\n",
    "    s.solve()\n",
    "main()"
   ]
  },
  {
   "cell_type": "code",
   "execution_count": null,
   "metadata": {},
   "outputs": [],
   "source": []
  }
 ],
 "metadata": {
  "kernelspec": {
   "display_name": "Python 3",
   "language": "python",
   "name": "python3"
  },
  "language_info": {
   "codemirror_mode": {
    "name": "ipython",
    "version": 3
   },
   "file_extension": ".py",
   "mimetype": "text/x-python",
   "name": "python",
   "nbconvert_exporter": "python",
   "pygments_lexer": "ipython3",
   "version": "3.7.6"
  }
 },
 "nbformat": 4,
 "nbformat_minor": 4
}
