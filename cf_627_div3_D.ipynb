{
 "cells": [
  {
   "cell_type": "code",
   "execution_count": 22,
   "metadata": {},
   "outputs": [
    {
     "name": "stdout",
     "output_type": "stream",
     "text": [
      "7\n"
     ]
    }
   ],
   "source": [
    "from sys import stdin, stdout, setrecursionlimit\n",
    "#import threading\n",
    "\n",
    "# tail-recursion optimization\n",
    "# In case of tail-recusion optimized code, have to use python compiler.\n",
    "# Otherwise, memory limit may exceed.\n",
    "# declare the class Tail_Recursion_Optimization\n",
    "class Tail_Recursion_Optimization:\n",
    "    def __init__(self, RECURSION_LIMIT, STACK_SIZE):\n",
    "        setrecursionlimit(RECURSION_LIMIT)\n",
    "        threading.stack_size(STACK_SIZE)\n",
    "        return None\n",
    "        \n",
    "class SOLVE:\n",
    "    def solve(self):\n",
    "        R = stdin.readline\n",
    "        f = open('input.txt');R = f.readline\n",
    "        W = stdout.write\n",
    "        \n",
    "        n = int(R())\n",
    "        a = [int(x) for x in R().split()]\n",
    "        b = [int(x) for x in R().split()]\n",
    "        \n",
    "        c = []\n",
    "        for i in range(n):\n",
    "            c.append(a[i] - b[i])\n",
    "            \n",
    "        c.sort(reverse = True)\n",
    "        \n",
    "        pairs = 0\n",
    "        for i in range(n-1):\n",
    "            l, r, pos = i+1, n-1, i\n",
    "            \n",
    "            if c[i] <= 0:\n",
    "                break\n",
    "            \n",
    "            while l <= r:\n",
    "                mid = (l+r) // 2\n",
    "                \n",
    "                if c[mid] >= -c[i] + 1:\n",
    "                    pos = mid\n",
    "                    l   = mid + 1\n",
    "                else:\n",
    "                    r   = mid - 1\n",
    "                    \n",
    "            pairs += pos - i\n",
    "        \n",
    "        W('%d\\n' % pairs)\n",
    "        return 0\n",
    "        \n",
    "def main():\n",
    "    s = SOLVE()\n",
    "    s.solve()\n",
    "#Tail_Recursion_Optimization(10**7, 100*1024**2) # recursion-call size, stack-size in byte (MB*1024**2)\n",
    "#threading.Thread(target=main).start()\n",
    "main()"
   ]
  },
  {
   "cell_type": "code",
   "execution_count": null,
   "metadata": {},
   "outputs": [],
   "source": []
  }
 ],
 "metadata": {
  "kernelspec": {
   "display_name": "Python 3",
   "language": "python",
   "name": "python3"
  },
  "language_info": {
   "codemirror_mode": {
    "name": "ipython",
    "version": 3
   },
   "file_extension": ".py",
   "mimetype": "text/x-python",
   "name": "python",
   "nbconvert_exporter": "python",
   "pygments_lexer": "ipython3",
   "version": "3.7.6"
  }
 },
 "nbformat": 4,
 "nbformat_minor": 4
}
