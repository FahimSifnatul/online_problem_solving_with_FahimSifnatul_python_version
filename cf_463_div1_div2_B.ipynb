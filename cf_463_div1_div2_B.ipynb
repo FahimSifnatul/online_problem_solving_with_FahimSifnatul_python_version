{
 "cells": [
  {
   "cell_type": "code",
   "execution_count": 28,
   "metadata": {},
   "outputs": [
    {
     "name": "stdout",
     "output_type": "stream",
     "text": [
      "3\n",
      "1\n",
      "1\n",
      "5"
     ]
    },
    {
     "data": {
      "text/plain": [
       "0"
      ]
     },
     "execution_count": 28,
     "metadata": {},
     "output_type": "execute_result"
    }
   ],
   "source": [
    "from sys import stdin, stdout\n",
    "\n",
    "def main():\n",
    "    R = stdin.readline\n",
    "    f = open('input.txt');R = f.readline\n",
    "    W = stdout.write\n",
    "\n",
    "    ans = []\n",
    "    \n",
    "    offline_k = {}\n",
    "    for i in range(1, 10**6+1):\n",
    "        if i > 9:  \n",
    "            n, product = i, 1\n",
    "            while n:\n",
    "                rem   = n%10\n",
    "                n   //= 10\n",
    "                if rem != 0:\n",
    "                    product *= rem\n",
    "\n",
    "            offline_k[i] = offline_k[product]\n",
    "\n",
    "        else:\n",
    "            offline_k[i] = i\n",
    "\n",
    "    cumsum = {}\n",
    "    for i in range(1, 10):\n",
    "        cumsum[i] = [0]\n",
    "\n",
    "    for i in range(1, 10**6+1):\n",
    "        for j in range(1, 10):\n",
    "            cumsum[j].append(cumsum[j][i-1])\n",
    "\n",
    "            if offline_k[i] == j:\n",
    "                cumsum[j][i] += 1          \n",
    "\n",
    "    for i in range(int(R())):\n",
    "        l, r, k = [int(x) for x in R().split()]\n",
    "        ans.append(str(cumsum[k][r] - cumsum[k][l-1]))\n",
    "\n",
    "    W('\\n'.join(ans))\n",
    "    return 0\n",
    "        \n",
    "main()"
   ]
  },
  {
   "cell_type": "code",
   "execution_count": null,
   "metadata": {},
   "outputs": [],
   "source": []
  }
 ],
 "metadata": {
  "kernelspec": {
   "display_name": "Python 3",
   "language": "python",
   "name": "python3"
  },
  "language_info": {
   "codemirror_mode": {
    "name": "ipython",
    "version": 3
   },
   "file_extension": ".py",
   "mimetype": "text/x-python",
   "name": "python",
   "nbconvert_exporter": "python",
   "pygments_lexer": "ipython3",
   "version": "3.7.6"
  }
 },
 "nbformat": 4,
 "nbformat_minor": 4
}
