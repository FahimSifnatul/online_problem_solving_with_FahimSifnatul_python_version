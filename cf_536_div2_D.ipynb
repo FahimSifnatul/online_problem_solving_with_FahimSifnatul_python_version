{
 "cells": [
  {
   "cell_type": "code",
   "execution_count": 6,
   "metadata": {},
   "outputs": [
    {
     "name": "stdout",
     "output_type": "stream",
     "text": [
      "1 4 3 2 5"
     ]
    }
   ],
   "source": [
    "from sys import stdin, stdout, setrecursionlimit\n",
    "import threading\n",
    "from queue import PriorityQueue\n",
    "\n",
    "# tail-recursion optimization\n",
    "# In case of tail-recusion optimized code, have to use python compiler.\n",
    "# Otherwise, memory limit may exceed.\n",
    "# declare the class Tail_Recursion_Optimization\n",
    "class Tail_Recursion_Optimization:\n",
    "    def __init__(self, RECURSION_LIMIT, STACK_SIZE):\n",
    "        setrecursionlimit(RECURSION_LIMIT)\n",
    "        threading.stack_size(STACK_SIZE)\n",
    "        return None\n",
    "        \n",
    "class SOLVE:\n",
    "    def solve(self):\n",
    "        R = stdin.readline\n",
    "        f = open('input.txt');R = f.readline\n",
    "        W = stdout.write\n",
    "        \n",
    "        ans = []\n",
    "        \n",
    "        n, m = [int(x) for x in R().split()]\n",
    "        node = [[] for i in range(n+1)]\n",
    "        for i in range(m):\n",
    "            u, v = [int(x) for x in R().split()]\n",
    "            node[u].append(v)\n",
    "            node[v].append(u)\n",
    "            \n",
    "        added    = [None for i in range(n+1)]\n",
    "        added[1] = True\n",
    "        priority_queue = PriorityQueue()\n",
    "        \n",
    "        ans.append('1')\n",
    "        for v in node[1]:\n",
    "            priority_queue.put(v)\n",
    "        while not priority_queue.empty():\n",
    "            u = priority_queue.get()\n",
    "            if added[u] == None:\n",
    "                added[u] = True\n",
    "                ans.append(str(u))\n",
    "                for v in node[u]:\n",
    "                    priority_queue.put(v)\n",
    "        \n",
    "        W(' '.join(ans))\n",
    "        return 0\n",
    "        \n",
    "def main():\n",
    "    s = SOLVE()\n",
    "    s.solve()\n",
    "#Tail_Recursion_Optimization(10**7, 2**26) # recursion-call size, stack-size in byte\n",
    "threading.Thread(target=main).start()"
   ]
  },
  {
   "cell_type": "code",
   "execution_count": null,
   "metadata": {},
   "outputs": [],
   "source": []
  }
 ],
 "metadata": {
  "kernelspec": {
   "display_name": "Python 3",
   "language": "python",
   "name": "python3"
  },
  "language_info": {
   "codemirror_mode": {
    "name": "ipython",
    "version": 3
   },
   "file_extension": ".py",
   "mimetype": "text/x-python",
   "name": "python",
   "nbconvert_exporter": "python",
   "pygments_lexer": "ipython3",
   "version": "3.7.6"
  }
 },
 "nbformat": 4,
 "nbformat_minor": 4
}
