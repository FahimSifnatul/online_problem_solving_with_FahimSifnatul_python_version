{
 "cells": [
  {
   "cell_type": "code",
   "execution_count": 24,
   "metadata": {},
   "outputs": [
    {
     "name": "stdout",
     "output_type": "stream",
     "text": [
      "200\n",
      "1 2 1 2 1 2 1 2 1 2 1 2 1 2 1 2 1 2 1 2 1 2 1 2 1 2 1 2 1 2 1 2 1 2 1 2 1 2 1 2 1 2 1 2 1 2 1 2 1 2 1 2 1 2 1 2 1 2 1 2 1 2 1 2 1 2 1 2 1 2 1 2 1 2 1 2 1 2 1 2 1 2 1 2 1 2 1 2 1 2 1 2 1 2 1 2 1 2 1 2 1 2 1 2 1 2 1 2 1 2 1 2 1 2 1 2 1 2 1 2 1 2 1 2 1 2 1 2 1 2 1 2 1 2 1 2 1 2 1 2 1 2 1 2 1 2 1 2 1 2 1 2 1 2 1 2 1 2 1 2 1 2 1 2 1 2 1 2 1 2 1 2 1 2 1 2 1 2 1 2 1 2 1 2 1 2 1 2 1 2 1 2 1 2 1 2 1 2 1 2 \n",
      "300\n",
      "1 2 1 1 2 1 1 2 1 1 2 1 1 2 1 1 2 1 1 2 1 1 2 1 1 2 1 1 2 1 1 2 1 1 2 1 1 2 1 1 2 1 1 2 1 1 2 1 1 2 1 1 2 1 1 2 1 1 2 1 1 2 1 1 2 1 1 2 1 1 2 1 1 2 1 1 2 1 1 2 1 1 2 1 1 2 1 1 2 1 1 2 1 1 2 1 1 2 1 1 2 1 1 2 1 1 2 1 1 2 1 1 2 1 1 2 1 1 2 1 1 2 1 1 2 1 1 2 1 1 2 1 1 2 1 1 2 1 1 2 1 1 2 1 1 2 1 1 2 1 1 2 1 1 2 1 1 2 1 1 2 1 1 2 1 1 2 1 1 2 1 1 2 1 1 2 1 1 2 1 1 2 1 1 2 1 1 2 1 1 2 1 1 2 1 1 2 1 1 2 1 1 2 1 1 2 1 1 2 1 1 2 1 1 2 1 1 2 1 1 2 1 1 2 1 1 2 1 1 2 1 1 2 1 1 2 1 1 2 1 1 2 1 1 2 1 1 2 1 1 2 1 1 2 1 1 2 1 1 2 1 1 2 1 1 2 1 1 2 1 1 2 1 1 2 1 1 2 1 1 2 1 1 2 1 1 2 1 1 2 1 1 2 1 1 2 1 1 2 1 \n",
      "-1\n",
      "400\n",
      "2 3 4 2 2 3 4 2 2 3 4 2 2 3 4 2 2 3 4 2 2 3 4 2 2 3 4 2 2 3 4 2 2 3 4 2 2 3 4 2 2 3 4 2 2 3 4 2 2 3 4 2 2 3 4 2 2 3 4 2 2 3 4 2 2 3 4 2 2 3 4 2 2 3 4 2 2 3 4 2 2 3 4 2 2 3 4 2 2 3 4 2 2 3 4 2 2 3 4 2 2 3 4 2 2 3 4 2 2 3 4 2 2 3 4 2 2 3 4 2 2 3 4 2 2 3 4 2 2 3 4 2 2 3 4 2 2 3 4 2 2 3 4 2 2 3 4 2 2 3 4 2 2 3 4 2 2 3 4 2 2 3 4 2 2 3 4 2 2 3 4 2 2 3 4 2 2 3 4 2 2 3 4 2 2 3 4 2 2 3 4 2 2 3 4 2 2 3 4 2 2 3 4 2 2 3 4 2 2 3 4 2 2 3 4 2 2 3 4 2 2 3 4 2 2 3 4 2 2 3 4 2 2 3 4 2 2 3 4 2 2 3 4 2 2 3 4 2 2 3 4 2 2 3 4 2 2 3 4 2 2 3 4 2 2 3 4 2 2 3 4 2 2 3 4 2 2 3 4 2 2 3 4 2 2 3 4 2 2 3 4 2 2 3 4 2 2 3 4 2 2 3 4 2 2 3 4 2 2 3 4 2 2 3 4 2 2 3 4 2 2 3 4 2 2 3 4 2 2 3 4 2 2 3 4 2 2 3 4 2 2 3 4 2 2 3 4 2 2 3 4 2 2 3 4 2 2 3 4 2 2 3 4 2 2 3 4 2 2 3 4 2 2 3 4 2 2 3 4 2 2 3 4 2 2 3 4 2 2 3 4 2 2 3 4 2 2 3 4 2 "
     ]
    }
   ],
   "source": [
    "from sys import stdin, stdout, setrecursionlimit\n",
    "#import threading\n",
    "\n",
    "# tail-recursion optimization\n",
    "# In case of tail-recusion optimized code, have to use python compiler.\n",
    "# Otherwise, memory limit may exceed.\n",
    "# declare the class Tail_Recursion_Optimization\n",
    "class Tail_Recursion_Optimization:\n",
    "    def __init__(self, RECURSION_LIMIT, STACK_SIZE):\n",
    "        setrecursionlimit(RECURSION_LIMIT)\n",
    "        threading.stack_size(STACK_SIZE)\n",
    "        return None\n",
    "        \n",
    "class SOLVE:\n",
    "    def solve(self):\n",
    "        R = stdin.readline\n",
    "        f = open('input.txt');R = f.readline\n",
    "        W = stdout.write\n",
    "        \n",
    "        ans = []\n",
    "        \n",
    "        for i in range(int(R())):\n",
    "            n, k = [int(x) for x in R().split()]\n",
    "            a    = [int(x) for x in R().split()]\n",
    "            \n",
    "            unique = set(a)\n",
    "            if len(unique) > k:\n",
    "                ans.append('-1')\n",
    "                continue\n",
    "            \n",
    "            ans.append(str(100 * k))\n",
    "            \n",
    "            s = ''\n",
    "            for j in range(100):\n",
    "                for val in unique:\n",
    "                    s += str(val) + ' '\n",
    "                \n",
    "                m = k - len(unique)\n",
    "                while m:\n",
    "                    for val in unique:\n",
    "                        if not m:\n",
    "                            break\n",
    "                        \n",
    "                        s += str(val) + ' '\n",
    "                        m -= 1\n",
    "                        \n",
    "            ans.append(s)        \n",
    "        \n",
    "        W('\\n'.join(ans))\n",
    "        return 0\n",
    "        \n",
    "def main():\n",
    "    s = SOLVE()\n",
    "    s.solve()\n",
    "#Tail_Recursion_Optimization(10**7, 100*1024**2) # recursion-call size, stack-size in byte (MB*1024**2)\n",
    "#threading.Thread(target=main).start()\n",
    "main()"
   ]
  },
  {
   "cell_type": "code",
   "execution_count": null,
   "metadata": {},
   "outputs": [],
   "source": []
  }
 ],
 "metadata": {
  "kernelspec": {
   "display_name": "Python 3",
   "language": "python",
   "name": "python3"
  },
  "language_info": {
   "codemirror_mode": {
    "name": "ipython",
    "version": 3
   },
   "file_extension": ".py",
   "mimetype": "text/x-python",
   "name": "python",
   "nbconvert_exporter": "python",
   "pygments_lexer": "ipython3",
   "version": "3.7.6"
  }
 },
 "nbformat": 4,
 "nbformat_minor": 4
}
