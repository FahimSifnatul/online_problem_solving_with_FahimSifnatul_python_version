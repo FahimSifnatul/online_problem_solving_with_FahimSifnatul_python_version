{
 "cells": [
  {
   "cell_type": "code",
   "execution_count": 14,
   "metadata": {},
   "outputs": [
    {
     "name": "stdout",
     "output_type": "stream",
     "text": [
      "S 50 8\n",
      "S 40 1\n",
      "B 25 10\n",
      "B 20 4\n"
     ]
    }
   ],
   "source": [
    "from sys import stdin, stdout, setrecursionlimit\n",
    "#import threading\n",
    "\n",
    "# tail-recursion optimization\n",
    "# In case of tail-recusion optimized code, have to use python compiler.\n",
    "# Otherwise, memory limit may exceed.\n",
    "# declare the class Tail_Recursion_Optimization\n",
    "class Tail_Recursion_Optimization:\n",
    "    def __init__(self, RECURSION_LIMIT, STACK_SIZE):\n",
    "        setrecursionlimit(RECURSION_LIMIT)\n",
    "        threading.stack_size(STACK_SIZE)\n",
    "        return None\n",
    "        \n",
    "class SOLVE:\n",
    "    def solve(self):\n",
    "        R = stdin.readline\n",
    "        f = open('input.txt');R = f.readline\n",
    "        W = stdout.write\n",
    "        \n",
    "        \n",
    "        n, k = [int(x) for x in R().split()]\n",
    "        b, s = {}, {}\n",
    "        \n",
    "        for i in range(n):\n",
    "            d, p, q = [x for x in R().split()]  \n",
    "            \n",
    "            p = int(p)\n",
    "            q = int(q)\n",
    "            \n",
    "            if d == 'B':\n",
    "                if p not in b:\n",
    "                    b[p]  = q\n",
    "                else:\n",
    "                    b[p] += q\n",
    "            \n",
    "            else:\n",
    "                if p not in s:\n",
    "                    s[p]  = q\n",
    "                else:\n",
    "                    s[p] += q\n",
    "                    \n",
    "        b = list(b.items())\n",
    "        s = list(s.items())\n",
    "        \n",
    "        b.sort(key = lambda x : x[0], reverse = True)\n",
    "        s.sort(key = lambda x : x[0])\n",
    "        \n",
    "        for i in range(min(k, len(s))-1, -1, -1):\n",
    "            W('S %d %d\\n' % (s[i][0], s[i][1]))\n",
    "            \n",
    "        for i in range(min(k, len(b))):\n",
    "            W('B %d %d\\n' % (b[i][0], b[i][1]))\n",
    "        \n",
    "        return 0\n",
    "        \n",
    "def main():\n",
    "    s = SOLVE()\n",
    "    s.solve()\n",
    "#Tail_Recursion_Optimization(10**7, 100*1024**2) # recursion-call size, stack-size in byte (MB*1024**2)\n",
    "#threading.Thread(target=main).start()\n",
    "main()"
   ]
  },
  {
   "cell_type": "code",
   "execution_count": null,
   "metadata": {},
   "outputs": [],
   "source": []
  }
 ],
 "metadata": {
  "kernelspec": {
   "display_name": "Python 3",
   "language": "python",
   "name": "python3"
  },
  "language_info": {
   "codemirror_mode": {
    "name": "ipython",
    "version": 3
   },
   "file_extension": ".py",
   "mimetype": "text/x-python",
   "name": "python",
   "nbconvert_exporter": "python",
   "pygments_lexer": "ipython3",
   "version": "3.7.6"
  }
 },
 "nbformat": 4,
 "nbformat_minor": 4
}
