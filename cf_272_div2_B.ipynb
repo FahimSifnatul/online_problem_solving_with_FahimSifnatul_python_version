{
 "cells": [
  {
   "cell_type": "code",
   "execution_count": 19,
   "metadata": {},
   "outputs": [
    {
     "name": "stdout",
     "output_type": "stream",
     "text": [
      "0.205078125000000\n"
     ]
    }
   ],
   "source": [
    "from sys import stdin, stdout, setrecursionlimit\n",
    "import threading\n",
    "\n",
    "# tail-recursion optimization\n",
    "# In case of tail-recusion optimized code, have to use python compiler.\n",
    "# Otherwise, memory limit may exceed.\n",
    "# declare the class Tail_Recursion_Optimization\n",
    "class Tail_Recursion_Optimization:\n",
    "    def __init__(self, RECURSION_LIMIT, STACK_SIZE):\n",
    "        setrecursionlimit(RECURSION_LIMIT)\n",
    "        threading.stack_size(STACK_SIZE)\n",
    "        return None\n",
    "        \n",
    "class SOLVE:\n",
    "    val = [0]\n",
    "    def DP(self, pos, s2, final_dir):\n",
    "        if pos == -1:\n",
    "            return 0\n",
    "        \n",
    "        if s2[pos] in ['+', '-']:\n",
    "            for i in range(len(self.val)):\n",
    "                self.val[i] += [-1, 1][s2[pos] == '+']\n",
    "        else:\n",
    "            val1 = self.val.copy()\n",
    "            val2 = self.val.copy()\n",
    "            for i in range(len(self.val)):\n",
    "                val1[i] -= 1\n",
    "                val2[i] += 1\n",
    "            self.val = val1 + val2\n",
    "        self.DP(pos-1, s2, final_dir)\n",
    "        \n",
    "        return self.val.count(final_dir) / len(self.val)\n",
    "    \n",
    "    def solve(self):\n",
    "        R = stdin.readline\n",
    "        f = open('input.txt');R = f.readline\n",
    "        W = stdout.write\n",
    "        \n",
    "        s1 = R()\n",
    "        s2 = R()\n",
    "        \n",
    "        final_dir = 0\n",
    "        for i in range(len(s1)-1):\n",
    "            final_dir += [-1, 1][s1[i] == '+']\n",
    "        \n",
    "        W('%.15lf\\n' % self.DP(len(s2)-2, s2, final_dir))\n",
    "        return 0\n",
    "        \n",
    "def main():\n",
    "    s = SOLVE()\n",
    "    s.solve()\n",
    "Tail_Recursion_Optimization(10**7, 2**26) # recursion-call size, stack-size in byte\n",
    "threading.Thread(target=main).start()"
   ]
  },
  {
   "cell_type": "code",
   "execution_count": null,
   "metadata": {},
   "outputs": [],
   "source": []
  }
 ],
 "metadata": {
  "kernelspec": {
   "display_name": "Python 3",
   "language": "python",
   "name": "python3"
  },
  "language_info": {
   "codemirror_mode": {
    "name": "ipython",
    "version": 3
   },
   "file_extension": ".py",
   "mimetype": "text/x-python",
   "name": "python",
   "nbconvert_exporter": "python",
   "pygments_lexer": "ipython3",
   "version": "3.7.6"
  }
 },
 "nbformat": 4,
 "nbformat_minor": 4
}
