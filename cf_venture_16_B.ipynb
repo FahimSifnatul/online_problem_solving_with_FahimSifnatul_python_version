{
 "cells": [
  {
   "cell_type": "code",
   "execution_count": 23,
   "metadata": {},
   "outputs": [
    {
     "name": "stdout",
     "output_type": "stream",
     "text": [
      "R\n"
     ]
    }
   ],
   "source": [
    "from sys import stdin, stdout, setrecursionlimit\n",
    "#import threading\n",
    "\n",
    "# tail-recursion optimization\n",
    "# In case of tail-recusion optimized code, have to use python compiler.\n",
    "# Otherwise, memory limit may exceed.\n",
    "# declare the class Tail_Recursion_Optimization\n",
    "class Tail_Recursion_Optimization:\n",
    "    def __init__(self, RECURSION_LIMIT, STACK_SIZE):\n",
    "        setrecursionlimit(RECURSION_LIMIT)\n",
    "        threading.stack_size(STACK_SIZE)\n",
    "        return None\n",
    "        \n",
    "class SOLVE:\n",
    "    def solve(self):\n",
    "        R = stdin.readline\n",
    "        f = open('input.txt');R = f.readline\n",
    "        W = stdout.write\n",
    "        \n",
    "        n   = int(R())\n",
    "        s   = list(R()[:-1])\n",
    "        s.sort()\n",
    "        s   = ''.join(s)\n",
    "        \n",
    "        r, g, b = s.count('R'), s.count('G'), s.count('B')\n",
    "        check   = bool(r)+bool(g)+bool(b)\n",
    "        \n",
    "        ans = ''\n",
    "        if check == 3:\n",
    "            ans = 'BGR'\n",
    "        elif check == 1:\n",
    "            ans = s[0]\n",
    "        elif check == 2:\n",
    "            if n == 2:\n",
    "                ans = ('R' if s=='BG' else ('B' if s=='GR' else 'G'))\n",
    "            elif r == 1 or g == 1 or b == 1:\n",
    "                if r == 1:\n",
    "                    if g:\n",
    "                        ans = 'BR'\n",
    "                    elif b:\n",
    "                        ans = 'GR'\n",
    "                elif g == 1:\n",
    "                    if b:\n",
    "                        ans = 'GR'\n",
    "                    elif r:\n",
    "                        ans = 'BG'\n",
    "                elif b == 1:\n",
    "                    if r:\n",
    "                        ans = 'BG'\n",
    "                    elif g:\n",
    "                        ans = 'BR'\n",
    "            else:\n",
    "                ans = 'BGR'\n",
    "        \n",
    "        W('%s\\n' % ans)\n",
    "        return 0\n",
    "        \n",
    "def main():\n",
    "    s = SOLVE()\n",
    "    s.solve()\n",
    "#Tail_Recursion_Optimization(10**7, 2**26) # recursion-call size, stack-size in byte\n",
    "#threading.Thread(target=main).start()\n",
    "main()"
   ]
  },
  {
   "cell_type": "code",
   "execution_count": null,
   "metadata": {},
   "outputs": [],
   "source": []
  }
 ],
 "metadata": {
  "kernelspec": {
   "display_name": "Python 3",
   "language": "python",
   "name": "python3"
  },
  "language_info": {
   "codemirror_mode": {
    "name": "ipython",
    "version": 3
   },
   "file_extension": ".py",
   "mimetype": "text/x-python",
   "name": "python",
   "nbconvert_exporter": "python",
   "pygments_lexer": "ipython3",
   "version": "3.7.6"
  }
 },
 "nbformat": 4,
 "nbformat_minor": 4
}
