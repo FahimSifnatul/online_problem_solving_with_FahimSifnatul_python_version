{
 "cells": [
  {
   "cell_type": "code",
   "execution_count": 2,
   "metadata": {},
   "outputs": [
    {
     "name": "stdout",
     "output_type": "stream",
     "text": [
      "0\n",
      "12\n",
      "0\n",
      "945"
     ]
    }
   ],
   "source": [
    "from sys import stdin, stdout\n",
    "\n",
    "class SOLVE:\n",
    "    def solve(self):\n",
    "        R = stdin.readline\n",
    "        f = open('input.txt');R = f.readline\n",
    "        W = stdout.write\n",
    "        \n",
    "        ans = []\n",
    "        \n",
    "        for i in range(int(R())):\n",
    "            n = int(R())\n",
    "            a = [int(x) for x in R().split()]\n",
    "            a.sort(reverse = True)\n",
    "            a = ['xtra'] + a\n",
    "            \n",
    "            pos = neg = 0\n",
    "            for j in range(1, n+1):\n",
    "                if a[j] < 0:\n",
    "                    neg += 1\n",
    "                else:\n",
    "                    pos += 1\n",
    "            \n",
    "            POS  = [0 for j in  range(6)]\n",
    "            for j in range(1, min(6, pos+1)):\n",
    "                if j == 1:\n",
    "                    POS[j] = a[j]\n",
    "                else:\n",
    "                    POS[j] = POS[j-1] * a[j]\n",
    "                    \n",
    "            NEG1 = [1 for j in  range(6)]\n",
    "            for j in range(pos+1, min(pos+6, pos+neg+1)):\n",
    "                if j == pos+1:\n",
    "                    NEG1[j-pos] = a[j]\n",
    "                else:\n",
    "                    NEG1[j-pos] = NEG1[j-pos-1] * a[j]\n",
    "            \n",
    "            NEG2 = [1 for j in  range(6)]\n",
    "            for j in range(n, n-min(5, neg), -1):\n",
    "                if j == n:\n",
    "                    NEG2[n-j+1] = a[j]\n",
    "                else:\n",
    "                    NEG2[n-j+1] = NEG2[n-j] * a[j]\n",
    "                    \n",
    "                    \n",
    "                    \n",
    "            mx = -10000000000000000000\n",
    "            for j in range(6):\n",
    "                mx = max(mx, POS[j] * NEG1[5-j], POS[j] * NEG2[5-j])\n",
    "                        \n",
    "            ans.append(str(mx))\n",
    "        \n",
    "        W('\\n'.join(ans))\n",
    "        \n",
    "def main():\n",
    "    s = SOLVE()\n",
    "    s.solve()\n",
    "main()"
   ]
  },
  {
   "cell_type": "code",
   "execution_count": null,
   "metadata": {},
   "outputs": [],
   "source": []
  }
 ],
 "metadata": {
  "kernelspec": {
   "display_name": "Python 3",
   "language": "python",
   "name": "python3"
  },
  "language_info": {
   "codemirror_mode": {
    "name": "ipython",
    "version": 3
   },
   "file_extension": ".py",
   "mimetype": "text/x-python",
   "name": "python",
   "nbconvert_exporter": "python",
   "pygments_lexer": "ipython3",
   "version": "3.7.6"
  }
 },
 "nbformat": 4,
 "nbformat_minor": 4
}
