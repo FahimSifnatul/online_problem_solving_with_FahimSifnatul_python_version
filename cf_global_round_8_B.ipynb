{
 "cells": [
  {
   "cell_type": "code",
   "execution_count": 10,
   "metadata": {},
   "outputs": [
    {
     "name": "stdout",
     "output_type": "stream",
     "text": [
      "6\n",
      "ccooddeforces\n"
     ]
    }
   ],
   "source": [
    "class Solve:    \n",
    "    def solve(self):\n",
    "        k    = int(input())\n",
    "        char = ['c', 'o', 'd', 'e', 'f', 'o', 'r', 'c', 'e', 's']\n",
    "        freq = [1 for i in range(10)]\n",
    "        \n",
    "        i, tmp = 0, 1  \n",
    "        while tmp < k:\n",
    "            freq[i] += 1\n",
    "            i += 1\n",
    "            if i == 10:\n",
    "                i = 0\n",
    "            tmp = 1\n",
    "            for j in range(10):\n",
    "                tmp *= freq[j]\n",
    "                \n",
    "        str = \"\"\n",
    "        for i in range(10):\n",
    "            str += (char[i] * freq[i])\n",
    "        print(str)\n",
    "        \n",
    "        \n",
    "def main():\n",
    "    s = Solve()\n",
    "    s.solve()\n",
    "main()"
   ]
  },
  {
   "cell_type": "code",
   "execution_count": null,
   "metadata": {},
   "outputs": [],
   "source": []
  }
 ],
 "metadata": {
  "kernelspec": {
   "display_name": "Python 3",
   "language": "python",
   "name": "python3"
  },
  "language_info": {
   "codemirror_mode": {
    "name": "ipython",
    "version": 3
   },
   "file_extension": ".py",
   "mimetype": "text/x-python",
   "name": "python",
   "nbconvert_exporter": "python",
   "pygments_lexer": "ipython3",
   "version": "3.7.6"
  }
 },
 "nbformat": 4,
 "nbformat_minor": 4
}
