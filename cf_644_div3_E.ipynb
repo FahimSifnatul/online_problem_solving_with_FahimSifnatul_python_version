{
 "cells": [
  {
   "cell_type": "code",
   "execution_count": 24,
   "metadata": {},
   "outputs": [
    {
     "name": "stdout",
     "output_type": "stream",
     "text": [
      "YES\n",
      "NO\n",
      "YES\n",
      "YES\n",
      "NO"
     ]
    }
   ],
   "source": [
    "from sys import stdin, stdout, setrecursionlimit\n",
    "import threading\n",
    "\n",
    "# tail-recursion optimization\n",
    "# In case of tail-recusion optimized code, have to use python compiler.\n",
    "# Otherwise, memory limit may exceed.\n",
    "# declare the class Tail_Recursion_Optimization\n",
    "class Tail_Recursion_Optimization:\n",
    "    def __init__(self, RECURSION_LIMIT, STACK_SIZE):\n",
    "        setrecursionlimit(RECURSION_LIMIT)\n",
    "        threading.stack_size(STACK_SIZE)\n",
    "        return None\n",
    "        \n",
    "class SOLVE:\n",
    "    def DP(self, x, y, n, node, dp):\n",
    "        if dp[x][y] != None:\n",
    "            return dp[x][y]\n",
    "        \n",
    "        if x == y == n-1:\n",
    "            dp[x][y] = int(node[x][y])\n",
    "        elif x == n-1:\n",
    "            self.DP(x, y+1, n, node, dp)\n",
    "            dp[x][y] = int(node[x][y])\n",
    "        elif y == n-1:\n",
    "            self.DP(x+1, y, n, node, dp)\n",
    "            dp[x][y] = int(node[x][y])\n",
    "        else:\n",
    "            val1 = self.DP(x, y+1, n, node, dp)\n",
    "            val2 = self.DP(x+1, y, n, node, dp)\n",
    "            dp[x][y] = (0 if node[x][y]=='0' else max(val1, val2))\n",
    "            \n",
    "        return dp[x][y]\n",
    "    \n",
    "    def solve(self):\n",
    "        R = stdin.readline\n",
    "        f = open('input.txt');R = f.readline\n",
    "        W = stdout.write\n",
    "        \n",
    "        ans = []\n",
    "        \n",
    "        for i in range(int(R())):\n",
    "            n    = int(R())\n",
    "            node = []\n",
    "            for j in range(n):\n",
    "                node.append(R())\n",
    "            \n",
    "            dp = [[None for k in range(n)] for j in range(n)]\n",
    "            self.DP(0, 0, n, node, dp)\n",
    "            \n",
    "            ret = 1\n",
    "            for j in range(n):\n",
    "                for k in range(n):\n",
    "                    if node[j][k] == '1' and not dp[j][k]:\n",
    "                        ret = 0\n",
    "                        break\n",
    "                if not ret:\n",
    "                    break\n",
    "                    \n",
    "            ans.append(['NO', 'YES'][ret])\n",
    "        \n",
    "        W('\\n'.join(ans))\n",
    "        return 0\n",
    "        \n",
    "def main():\n",
    "    s = SOLVE()\n",
    "    s.solve()\n",
    "Tail_Recursion_Optimization(10**7, 2**26) # recursion-call size, stack-size in byte\n",
    "threading.Thread(target=main).start()"
   ]
  },
  {
   "cell_type": "code",
   "execution_count": null,
   "metadata": {},
   "outputs": [],
   "source": []
  }
 ],
 "metadata": {
  "kernelspec": {
   "display_name": "Python 3",
   "language": "python",
   "name": "python3"
  },
  "language_info": {
   "codemirror_mode": {
    "name": "ipython",
    "version": 3
   },
   "file_extension": ".py",
   "mimetype": "text/x-python",
   "name": "python",
   "nbconvert_exporter": "python",
   "pygments_lexer": "ipython3",
   "version": "3.7.6"
  }
 },
 "nbformat": 4,
 "nbformat_minor": 4
}
