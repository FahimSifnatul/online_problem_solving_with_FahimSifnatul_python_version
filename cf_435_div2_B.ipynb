{
 "cells": [
  {
   "cell_type": "code",
   "execution_count": 10,
   "metadata": {},
   "outputs": [
    {
     "name": "stdout",
     "output_type": "stream",
     "text": [
      "0"
     ]
    }
   ],
   "source": [
    "from sys import stdin, stdout, setrecursionlimit\n",
    "import threading\n",
    "\n",
    "# tail-recursion optimization\n",
    "# In case of tail-recusion optimized code, have to use python compiler.\n",
    "# Otherwise, memory limit may exceed.\n",
    "# declare the class class Tail_Recursion_Optimization\n",
    "class Tail_Recursion_Optimization:\n",
    "    def __init__(self, recursion_limit, stack_size):\n",
    "        setrecursionlimit(recursion_limit)\n",
    "        threading.stack_size(stack_size)\n",
    "        return None\n",
    "        \n",
    "class SOLVE:\n",
    "    def dfs(self, u, node, color, A, B):\n",
    "        \n",
    "        (A if color[u] else B).append(u)\n",
    "        \n",
    "        for v in node[u]:\n",
    "            if color[v] == None:\n",
    "                color[v] = color[u] ^ 1\n",
    "                self.dfs(v, node, color, A, B)\n",
    "        \n",
    "        return 0\n",
    "    \n",
    "    def solve(self):\n",
    "        R = stdin.readline\n",
    "        f = open('input.txt');R = f.readline\n",
    "        W = stdout.write\n",
    "        \n",
    "        ans = []\n",
    "        \n",
    "        n = int(R())\n",
    "        node = [[] for i in range(n+1)]\n",
    "        for i in range(n-1):\n",
    "            u, v = [int(x) for x in R().split()]\n",
    "            node[u].append(v)\n",
    "            node[v].append(u)\n",
    "        \n",
    "        color    = [None for i in range(n+1)]\n",
    "        A, B     = [], []\n",
    "        color[1] = 1\n",
    "        self.dfs(1, node, color, A, B)\n",
    "        \n",
    "        total = 0\n",
    "        a, b = len(A), len(B)\n",
    "        for i in range(1, n+1):\n",
    "            total += (b if color[i] else a) - len(node[i])\n",
    "        total //= 2\n",
    "        \n",
    "        W('%d' % total)\n",
    "        return 0\n",
    "        \n",
    "def main():\n",
    "    s = SOLVE()\n",
    "    s.solve()\n",
    "Tail_Recursion_Optimization(10**7, 2**26)\n",
    "threading.Thread(target=main).start()"
   ]
  },
  {
   "cell_type": "code",
   "execution_count": null,
   "metadata": {},
   "outputs": [],
   "source": []
  }
 ],
 "metadata": {
  "kernelspec": {
   "display_name": "Python 3",
   "language": "python",
   "name": "python3"
  },
  "language_info": {
   "codemirror_mode": {
    "name": "ipython",
    "version": 3
   },
   "file_extension": ".py",
   "mimetype": "text/x-python",
   "name": "python",
   "nbconvert_exporter": "python",
   "pygments_lexer": "ipython3",
   "version": "3.7.6"
  }
 },
 "nbformat": 4,
 "nbformat_minor": 4
}
