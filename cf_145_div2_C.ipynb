{
 "cells": [
  {
   "cell_type": "code",
   "execution_count": 28,
   "metadata": {},
   "outputs": [
    {
     "name": "stdout",
     "output_type": "stream",
     "text": [
      "1\n"
     ]
    }
   ],
   "source": [
    "from sys import stdin, stdout, setrecursionlimit\n",
    "import threading\n",
    "\n",
    "# tail-recursion optimization\n",
    "# In case of tail-recusion optimized code, have to use python compiler.\n",
    "# Otherwise, memory limit may exceed.\n",
    "# declare the class Tail_Recursion_Optimization\n",
    "class Tail_Recursion_Optimization:\n",
    "    def __init__(self, RECURSION_LIMIT, STACK_SIZE):\n",
    "        setrecursionlimit(RECURSION_LIMIT)\n",
    "        threading.stack_size(STACK_SIZE)\n",
    "        return None\n",
    "        \n",
    "class SOLVE:\n",
    "    def solve(self):\n",
    "        R = stdin.readline\n",
    "        f = open('input.txt');R = f.readline\n",
    "        W = stdout.write\n",
    "        \n",
    "        n = int(R())\n",
    "        a = [int(x) for x in R().split()]\n",
    "        \n",
    "        prefix = [0 for i in range(n)]\n",
    "        suffix = [0 for i in range(n)]\n",
    "        \n",
    "        for i in range(n):\n",
    "            if i == 0:\n",
    "                prefix[i] = int(a[i] >= 0)\n",
    "            else:\n",
    "                prefix[i] = prefix[i-1] + int(a[i] >= 0)\n",
    "        \n",
    "        for i in range(n-2, -1, -1):\n",
    "            suffix[i] = suffix[i+1] + int(a[i+1] <= 0)\n",
    "            \n",
    "        mn = n\n",
    "        for i in range(n):\n",
    "            mn = min(mn, prefix[i]+suffix[i]+int(i==n-1))\n",
    "        \n",
    "        #f = open('output.txt', 'w');W = f.write\n",
    "        W('%d\\n' % mn)\n",
    "        return 0\n",
    "        \n",
    "def main():\n",
    "    s = SOLVE()\n",
    "    s.solve()\n",
    "#Tail_Recursion_Optimization(10**7, 2**26) # recursion-call size, stack-size in byte\n",
    "#threading.Thread(target=main).start()\n",
    "main()"
   ]
  },
  {
   "cell_type": "code",
   "execution_count": null,
   "metadata": {},
   "outputs": [],
   "source": []
  }
 ],
 "metadata": {
  "kernelspec": {
   "display_name": "Python 3",
   "language": "python",
   "name": "python3"
  },
  "language_info": {
   "codemirror_mode": {
    "name": "ipython",
    "version": 3
   },
   "file_extension": ".py",
   "mimetype": "text/x-python",
   "name": "python",
   "nbconvert_exporter": "python",
   "pygments_lexer": "ipython3",
   "version": "3.7.6"
  }
 },
 "nbformat": 4,
 "nbformat_minor": 4
}
