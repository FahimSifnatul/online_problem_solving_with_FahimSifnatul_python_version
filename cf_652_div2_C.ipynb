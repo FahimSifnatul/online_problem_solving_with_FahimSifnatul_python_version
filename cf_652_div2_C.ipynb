{
 "cells": [
  {
   "cell_type": "code",
   "execution_count": 1,
   "metadata": {},
   "outputs": [],
   "source": [
    "from sys import stdin, stdout\n",
    "\n",
    "class SOLVE:\n",
    "    def solve(self):\n",
    "        R = stdin.readline\n",
    "        W = stdout.write\n",
    "        \n",
    "        ans = []\n",
    "        for i in range(int(input())):\n",
    "            n, k = [int(x) for x in R().split()]\n",
    "            a    = [int(x) for x in R().split()]\n",
    "            w    = [int(x) for x in R().split()]\n",
    "            \n",
    "            a.sort(reverse = True)\n",
    "            w.sort()\n",
    "            \n",
    "            total  = sum(a[:len(w)])\n",
    "            total += sum(a[:w.count(1)])\n",
    "            \n",
    "            pos = len(w) - 1\n",
    "            for j in range(len(w)):\n",
    "                if w[j] > 1:\n",
    "                    pos += w[j] - 1\n",
    "                    total += a[pos]\n",
    "                    \n",
    "            ans.append(str(total))\n",
    "        \n",
    "        W('\\n'.join(ans))\n",
    "        \n",
    "def main():\n",
    "    s = SOLVE()\n",
    "    s.solve()\n",
    "main()"
   ]
  },
  {
   "cell_type": "code",
   "execution_count": null,
   "metadata": {},
   "outputs": [],
   "source": []
  }
 ],
 "metadata": {
  "kernelspec": {
   "display_name": "Python 3",
   "language": "python",
   "name": "python3"
  },
  "language_info": {
   "codemirror_mode": {
    "name": "ipython",
    "version": 3
   },
   "file_extension": ".py",
   "mimetype": "text/x-python",
   "name": "python",
   "nbconvert_exporter": "python",
   "pygments_lexer": "ipython3",
   "version": "3.7.6"
  }
 },
 "nbformat": 4,
 "nbformat_minor": 4
}
