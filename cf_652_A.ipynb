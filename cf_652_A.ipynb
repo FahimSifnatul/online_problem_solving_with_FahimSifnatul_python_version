{
 "cells": [
  {
   "cell_type": "code",
   "execution_count": 2,
   "metadata": {},
   "outputs": [
    {
     "name": "stdout",
     "output_type": "stream",
     "text": [
      "4\n",
      "3\n",
      "4\n",
      "12\n",
      "1000000000\n",
      "NO\n",
      "YES\n",
      "YES\n",
      "YES\n"
     ]
    }
   ],
   "source": [
    "from sys import stdin, stdout\n",
    "\n",
    "class SOLVE:\n",
    "    def solve(self):\n",
    "        r = stdin.readline\n",
    "        w = stdout.write\n",
    "        ans = []\n",
    "        for i in range(int(input())):\n",
    "            n = int(input())\n",
    "            if n%4:\n",
    "                ans += [\"NO\", '\\n']\n",
    "            else:\n",
    "                ans += [\"YES\", '\\n']\n",
    "        w(''.join(ans))\n",
    "\n",
    "def main():\n",
    "    s = SOLVE()\n",
    "    s.solve()\n",
    "main()"
   ]
  },
  {
   "cell_type": "code",
   "execution_count": null,
   "metadata": {},
   "outputs": [],
   "source": []
  }
 ],
 "metadata": {
  "kernelspec": {
   "display_name": "Python 3",
   "language": "python",
   "name": "python3"
  },
  "language_info": {
   "codemirror_mode": {
    "name": "ipython",
    "version": 3
   },
   "file_extension": ".py",
   "mimetype": "text/x-python",
   "name": "python",
   "nbconvert_exporter": "python",
   "pygments_lexer": "ipython3",
   "version": "3.7.6"
  }
 },
 "nbformat": 4,
 "nbformat_minor": 4
}
