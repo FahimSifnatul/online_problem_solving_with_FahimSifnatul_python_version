{
 "cells": [
  {
   "cell_type": "code",
   "execution_count": 1,
   "metadata": {},
   "outputs": [
    {
     "name": "stdout",
     "output_type": "stream",
     "text": [
      "3\n",
      "3\n",
      "1 2 3 4 5 6\n",
      "1 3\n",
      "2 4\n",
      "2\n",
      "5 7 9 10\n",
      "5 7\n",
      "5\n",
      "1 3 3 4 5 90 100 101 2 3\n",
      "1 3\n",
      "3 5\n",
      "4 90\n",
      "100 2\n"
     ]
    }
   ],
   "source": [
    "for i in range(int(input())):\n",
    "    n = int(input())\n",
    "    a = [int(x) for x in input().split()]\n",
    "    odd, even, cnt = [], [], 0\n",
    "    for i in range(2*n):\n",
    "        if cnt == 2*n - 2:\n",
    "            break\n",
    "        \n",
    "        if a[i]%2:\n",
    "            even.append(i + 1)\n",
    "        else:\n",
    "            odd.append(i + 1)\n",
    "        \n",
    "        if len(even) == 2:\n",
    "            print(*even)\n",
    "            even = []\n",
    "            cnt += 2\n",
    "        elif len(odd) == 2:\n",
    "            print(*odd)\n",
    "            odd = []\n",
    "            cnt += 2"
   ]
  },
  {
   "cell_type": "code",
   "execution_count": null,
   "metadata": {},
   "outputs": [],
   "source": []
  }
 ],
 "metadata": {
  "kernelspec": {
   "display_name": "Python 3",
   "language": "python",
   "name": "python3"
  },
  "language_info": {
   "codemirror_mode": {
    "name": "ipython",
    "version": 3
   },
   "file_extension": ".py",
   "mimetype": "text/x-python",
   "name": "python",
   "nbconvert_exporter": "python",
   "pygments_lexer": "ipython3",
   "version": "3.7.6"
  }
 },
 "nbformat": 4,
 "nbformat_minor": 4
}
