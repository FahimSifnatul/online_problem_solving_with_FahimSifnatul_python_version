{
 "cells": [
  {
   "cell_type": "code",
   "execution_count": 10,
   "metadata": {},
   "outputs": [
    {
     "name": "stdout",
     "output_type": "stream",
     "text": [
      "7\n"
     ]
    }
   ],
   "source": [
    "from sys import stdin, stdout, setrecursionlimit\n",
    "import threading\n",
    "\n",
    "# tail-recursion optimization\n",
    "# In case of tail-recusion optimized code, have to use python compiler.\n",
    "# Otherwise, memory limit may exceed.\n",
    "# declare the class Tail_Recursion_Optimization\n",
    "class Tail_Recursion_Optimization:\n",
    "    def __init__(self, RECURSION_LIMIT, STACK_SIZE):\n",
    "        setrecursionlimit(RECURSION_LIMIT)\n",
    "        threading.stack_size(STACK_SIZE)\n",
    "        return None\n",
    "        \n",
    "class SOLVE:\n",
    "    n  = None\n",
    "    a  = []\n",
    "    dp = []\n",
    "    \n",
    "    def DP(self, which, pos):\n",
    "        if pos == self.n:\n",
    "            return 0\n",
    "        \n",
    "        if pos != which != None and self.dp[which][pos] != None:\n",
    "            return self.dp[which][pos]\n",
    "        \n",
    "        if which == pos == None:\n",
    "            # for 0\n",
    "            total1 = total2 = 0\n",
    "            total1 += self.a[0][0] + self.DP(1, 1)\n",
    "            total2 += self.DP(0, 1)\n",
    "            self.dp[0][0] = max(total1, total2)\n",
    "            \n",
    "            # for 1\n",
    "            total1 = total2 = 0\n",
    "            total1 += self.a[1][0] + self.DP(0, 1)\n",
    "            total2 += self.DP(1, 1)\n",
    "            self.dp[1][0] = max(total1, total2)\n",
    "            \n",
    "            return max(self.dp[0][0], self.dp[1][0])\n",
    "        \n",
    "        else:\n",
    "            total1 = total2 = 0\n",
    "            total1 += self.a[which][pos] + self.DP(which^1, pos+1)\n",
    "            total2 += self.DP(which, pos+1)\n",
    "            self.dp[which][pos] = max(total1, total2)\n",
    "                \n",
    "            return self.dp[which][pos]\n",
    "    \n",
    "    def solve(self):\n",
    "        R = stdin.readline\n",
    "        f = open('input.txt');R = f.readline\n",
    "        W = stdout.write\n",
    "        \n",
    "        self.n = int(R())\n",
    "        tmp1   = [int(x) for x in R().split()]\n",
    "        tmp2   = [int(x) for x in R().split()]\n",
    "        \n",
    "        self.a.append(tmp1)\n",
    "        self.a.append(tmp2)\n",
    "        \n",
    "        self.dp = [[None for i in range(self.n)] for j in range(2)]\n",
    "        W('%d\\n' % self.DP(None, None))\n",
    "        return 0\n",
    "        \n",
    "def main():\n",
    "    s = SOLVE()\n",
    "    s.solve()\n",
    "Tail_Recursion_Optimization(10**7, 100*1024**2) # recursion-call size, stack-size in byte (MB*1024**2)\n",
    "threading.Thread(target=main).start()\n",
    "#main()"
   ]
  },
  {
   "cell_type": "code",
   "execution_count": null,
   "metadata": {},
   "outputs": [],
   "source": []
  }
 ],
 "metadata": {
  "kernelspec": {
   "display_name": "Python 3",
   "language": "python",
   "name": "python3"
  },
  "language_info": {
   "codemirror_mode": {
    "name": "ipython",
    "version": 3
   },
   "file_extension": ".py",
   "mimetype": "text/x-python",
   "name": "python",
   "nbconvert_exporter": "python",
   "pygments_lexer": "ipython3",
   "version": "3.7.6"
  }
 },
 "nbformat": 4,
 "nbformat_minor": 4
}
