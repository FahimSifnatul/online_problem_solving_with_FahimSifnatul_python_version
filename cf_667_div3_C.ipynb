{
 "cells": [
  {
   "cell_type": "code",
   "execution_count": 1,
   "metadata": {},
   "outputs": [
    {
     "ename": "SyntaxError",
     "evalue": "invalid syntax (<ipython-input-1-177defddeaa7>, line 18)",
     "output_type": "error",
     "traceback": [
      "\u001b[0;36m  File \u001b[0;32m\"<ipython-input-1-177defddeaa7>\"\u001b[0;36m, line \u001b[0;32m18\u001b[0m\n\u001b[0;31m    ans = [str(x) + ' ' str(y)]\u001b[0m\n\u001b[0m                          ^\u001b[0m\n\u001b[0;31mSyntaxError\u001b[0m\u001b[0;31m:\u001b[0m invalid syntax\n"
     ]
    }
   ],
   "source": [
    "from sys import stdin, stdout\n",
    "\n",
    "class SOLVE:\n",
    "    def solve(self):\n",
    "        R = stdin.readline\n",
    "        W = stdout.write\n",
    "        \n",
    "        ans = []\n",
    "        for i in range(int(input())):\n",
    "            n, x, y = [int(x) for x in R().split()]\n",
    "            \n",
    "            gap = None\n",
    "            for i in range(n-1, 0, -1):\n",
    "                if (y - x) % i == 0:\n",
    "                    gap = (y-x) // i\n",
    "                    break\n",
    "                    \n",
    "            ans += [str(y)]\n",
    "            n   -= 1\n",
    "            \n",
    "            temp = y - gap\n",
    "            while temp > 0 and n > 0:\n",
    "                ans  += [' ' + str(temp)]\n",
    "                n    -= 1\n",
    "                temp -= gap\n",
    "            \n",
    "            temp = y + gap\n",
    "            while n > 0:\n",
    "                ans  += [' ' + str(temp)]\n",
    "                n    -= 1\n",
    "                temp += gap\n",
    "            \n",
    "            ans += ['\\n']\n",
    "            \n",
    "        W(''.join(ans))\n",
    "        \n",
    "def main():\n",
    "    s = SOLVE()\n",
    "    s.solve()\n",
    "main()"
   ]
  },
  {
   "cell_type": "code",
   "execution_count": null,
   "metadata": {},
   "outputs": [],
   "source": []
  }
 ],
 "metadata": {
  "kernelspec": {
   "display_name": "Python 3",
   "language": "python",
   "name": "python3"
  },
  "language_info": {
   "codemirror_mode": {
    "name": "ipython",
    "version": 3
   },
   "file_extension": ".py",
   "mimetype": "text/x-python",
   "name": "python",
   "nbconvert_exporter": "python",
   "pygments_lexer": "ipython3",
   "version": "3.7.6"
  }
 },
 "nbformat": 4,
 "nbformat_minor": 4
}
