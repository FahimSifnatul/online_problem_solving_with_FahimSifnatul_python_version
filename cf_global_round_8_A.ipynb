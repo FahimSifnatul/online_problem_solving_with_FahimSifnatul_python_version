{
 "cells": [
  {
   "cell_type": "code",
   "execution_count": 17,
   "metadata": {},
   "outputs": [
    {
     "name": "stdout",
     "output_type": "stream",
     "text": [
      "1\n",
      "5 4 100\n",
      "7\n"
     ]
    }
   ],
   "source": [
    "class Solve:\n",
    "    def op(self, a, b, n, nop):\n",
    "        if b > n:\n",
    "            return nop\n",
    "        return self.op(b, a+b, n, nop+1)\n",
    "    \n",
    "    def solve(self):\n",
    "        for i in range(int(input())):\n",
    "            a, b, n = [int(x) for x in input().split()]\n",
    "            a, b = min(a, b), max(a, b)\n",
    "            print(self.op(a, b, n, 0))\n",
    "        \n",
    "    \n",
    "def main():\n",
    "    s = Solve()\n",
    "    s.solve()\n",
    "main()"
   ]
  },
  {
   "cell_type": "code",
   "execution_count": null,
   "metadata": {},
   "outputs": [],
   "source": []
  }
 ],
 "metadata": {
  "kernelspec": {
   "display_name": "Python 3",
   "language": "python",
   "name": "python3"
  },
  "language_info": {
   "codemirror_mode": {
    "name": "ipython",
    "version": 3
   },
   "file_extension": ".py",
   "mimetype": "text/x-python",
   "name": "python",
   "nbconvert_exporter": "python",
   "pygments_lexer": "ipython3",
   "version": "3.7.6"
  }
 },
 "nbformat": 4,
 "nbformat_minor": 4
}
