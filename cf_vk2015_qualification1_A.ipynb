{
 "cells": [
  {
   "cell_type": "code",
   "execution_count": 88,
   "metadata": {},
   "outputs": [
    {
     "name": "stdout",
     "output_type": "stream",
     "text": [
      "6\n"
     ]
    }
   ],
   "source": [
    "from sys import stdin, stdout, setrecursionlimit\n",
    "import threading\n",
    "\n",
    "# tail-recursion optimization\n",
    "# In case of tail-recusion optimized code, have to use python compiler.\n",
    "# Otherwise, memory limit may exceed.\n",
    "# declare the class class Tail_Recursion_Optimization\n",
    "class Tail_Recursion_Optimization:\n",
    "    def __init__(self, recursion_limit, stack_size):\n",
    "        setrecursionlimit(recursion_limit)\n",
    "        threading.stack_size(stack_size)\n",
    "        return None\n",
    "        \n",
    "class SOLVE:\n",
    "    def dfs(self, u, node, dis):\n",
    "        depth = 1\n",
    "        for v in node[u]:\n",
    "            if (v in node) and (v not in dis):\n",
    "                dis[v] = self.dfs(v, node, dis) + 1\n",
    "                depth  = max(depth, dis[v])\n",
    "                \n",
    "        dis[u] = depth\n",
    "        return dis[u]\n",
    "    \n",
    "    def solve(self):\n",
    "        R = stdin.readline\n",
    "        f = open('input.txt');R = f.readline\n",
    "        W = stdout.write\n",
    "        \n",
    "        node = {}\n",
    "        for i in range(int(R())):\n",
    "            u, c, v = R().split()\n",
    "            u, v    = u.lower(), v.lower()\n",
    "            \n",
    "            if u not in node:\n",
    "                node[u] = []\n",
    "            node[u].append(v)\n",
    "            \n",
    "            if v not in node:\n",
    "                node[v] = []\n",
    "        \n",
    "        mx = 2\n",
    "        for u in node:\n",
    "            dis = {u : 0}\n",
    "            mx  = max(mx, self.dfs(u, node, dis))\n",
    "        \n",
    "        W('%d\\n' % mx)\n",
    "        \n",
    "        return 0\n",
    "        \n",
    "def main():\n",
    "    s = SOLVE()\n",
    "    s.solve()\n",
    "Tail_Recursion_Optimization(10**5, 2**20)\n",
    "threading.Thread(target=main).start()"
   ]
  },
  {
   "cell_type": "code",
   "execution_count": null,
   "metadata": {},
   "outputs": [],
   "source": []
  }
 ],
 "metadata": {
  "kernelspec": {
   "display_name": "Python 3",
   "language": "python",
   "name": "python3"
  },
  "language_info": {
   "codemirror_mode": {
    "name": "ipython",
    "version": 3
   },
   "file_extension": ".py",
   "mimetype": "text/x-python",
   "name": "python",
   "nbconvert_exporter": "python",
   "pygments_lexer": "ipython3",
   "version": "3.7.6"
  }
 },
 "nbformat": 4,
 "nbformat_minor": 4
}
