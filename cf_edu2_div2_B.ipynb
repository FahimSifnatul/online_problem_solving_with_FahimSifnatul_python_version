{
 "cells": [
  {
   "cell_type": "code",
   "execution_count": 5,
   "metadata": {},
   "outputs": [
    {
     "name": "stdout",
     "output_type": "stream",
     "text": [
      "11 2 10 12 18 19 16 16 3 13 18 11 2 2 17 8 11 12 3 20 12 11"
     ]
    }
   ],
   "source": [
    "from sys import stdin, stdout, setrecursionlimit\n",
    "#import threading\n",
    "\n",
    "# tail-recursion optimization\n",
    "# In case of tail-recusion optimized code, have to use python compiler.\n",
    "# Otherwise, memory limit may exceed.\n",
    "# declare the class Tail_Recursion_Optimization\n",
    "class Tail_Recursion_Optimization:\n",
    "    def __init__(self, RECURSION_LIMIT, STACK_SIZE):\n",
    "        setrecursionlimit(RECURSION_LIMIT)\n",
    "        threading.stack_size(STACK_SIZE)\n",
    "        return None\n",
    "        \n",
    "class SOLVE:\n",
    "    def solve(self):\n",
    "        R = stdin.readline\n",
    "        f = open('input.txt');R = f.readline\n",
    "        W = stdout.write\n",
    "        \n",
    "        ans  = []\n",
    "         \n",
    "        n, m = [int(x) for x in R().split()]\n",
    "        a    = [int(x) for x in R().split()]\n",
    "        b    = [int(x) for x in R().split()]\n",
    "        \n",
    "        a.sort()\n",
    "        \n",
    "        for j in range(m):\n",
    "            low, high, mx = 0, n-1, 0\n",
    "            \n",
    "            while low <= high:\n",
    "                mid = (low + high) // 2\n",
    "                if a[mid] <= b[j]:\n",
    "                    mx   = max(mx, mid+1)\n",
    "                    low  = mid + 1\n",
    "                else:\n",
    "                    high = mid - 1\n",
    "                    \n",
    "            ans.append(str(mx))\n",
    "        \n",
    "        W(' '.join(ans))\n",
    "        return 0\n",
    "        \n",
    "def main():\n",
    "    s = SOLVE()\n",
    "    s.solve()\n",
    "#Tail_Recursion_Optimization(10**7, 100*1024**2) # recursion-call size, stack-size in byte (MB*1024**2)\n",
    "#threading.Thread(target=main).start()\n",
    "main()"
   ]
  },
  {
   "cell_type": "code",
   "execution_count": null,
   "metadata": {},
   "outputs": [],
   "source": []
  }
 ],
 "metadata": {
  "kernelspec": {
   "display_name": "Python 3",
   "language": "python",
   "name": "python3"
  },
  "language_info": {
   "codemirror_mode": {
    "name": "ipython",
    "version": 3
   },
   "file_extension": ".py",
   "mimetype": "text/x-python",
   "name": "python",
   "nbconvert_exporter": "python",
   "pygments_lexer": "ipython3",
   "version": "3.7.6"
  }
 },
 "nbformat": 4,
 "nbformat_minor": 4
}
